{
 "cells": [
  {
   "cell_type": "markdown",
   "metadata": {},
   "source": [
    "### Importing the Libraries"
   ]
  },
  {
   "cell_type": "code",
   "execution_count": 1,
   "metadata": {},
   "outputs": [],
   "source": [
    "import pandas as pd\n",
    "import numpy as np"
   ]
  },
  {
   "cell_type": "markdown",
   "metadata": {},
   "source": [
    "### Reading the Dataset"
   ]
  },
  {
   "cell_type": "code",
   "execution_count": 2,
   "metadata": {},
   "outputs": [],
   "source": [
    "df = pd.read_csv(r\"D:\\Downloads\\Data Science\\Analytics_Vidya\\Dataset\\Black Friday Sales\\train.csv\")\n",
    "test_data = pd.read_csv(r\"D:\\Downloads\\Data Science\\Analytics_Vidya\\Dataset\\Black Friday Sales\\test.csv\")"
   ]
  },
  {
   "cell_type": "code",
   "execution_count": 3,
   "metadata": {},
   "outputs": [
    {
     "data": {
      "text/html": [
       "<div>\n",
       "<style scoped>\n",
       "    .dataframe tbody tr th:only-of-type {\n",
       "        vertical-align: middle;\n",
       "    }\n",
       "\n",
       "    .dataframe tbody tr th {\n",
       "        vertical-align: top;\n",
       "    }\n",
       "\n",
       "    .dataframe thead th {\n",
       "        text-align: right;\n",
       "    }\n",
       "</style>\n",
       "<table border=\"1\" class=\"dataframe\">\n",
       "  <thead>\n",
       "    <tr style=\"text-align: right;\">\n",
       "      <th></th>\n",
       "      <th>User_ID</th>\n",
       "      <th>Product_ID</th>\n",
       "      <th>Gender</th>\n",
       "      <th>Age</th>\n",
       "      <th>Occupation</th>\n",
       "      <th>City_Category</th>\n",
       "      <th>Stay_In_Current_City_Years</th>\n",
       "      <th>Marital_Status</th>\n",
       "      <th>Product_Category_1</th>\n",
       "      <th>Product_Category_2</th>\n",
       "      <th>Product_Category_3</th>\n",
       "      <th>Purchase</th>\n",
       "    </tr>\n",
       "  </thead>\n",
       "  <tbody>\n",
       "    <tr>\n",
       "      <th>0</th>\n",
       "      <td>1000001</td>\n",
       "      <td>P00069042</td>\n",
       "      <td>F</td>\n",
       "      <td>0-17</td>\n",
       "      <td>10</td>\n",
       "      <td>A</td>\n",
       "      <td>2</td>\n",
       "      <td>0</td>\n",
       "      <td>3</td>\n",
       "      <td>NaN</td>\n",
       "      <td>NaN</td>\n",
       "      <td>8370</td>\n",
       "    </tr>\n",
       "    <tr>\n",
       "      <th>1</th>\n",
       "      <td>1000001</td>\n",
       "      <td>P00248942</td>\n",
       "      <td>F</td>\n",
       "      <td>0-17</td>\n",
       "      <td>10</td>\n",
       "      <td>A</td>\n",
       "      <td>2</td>\n",
       "      <td>0</td>\n",
       "      <td>1</td>\n",
       "      <td>6.0</td>\n",
       "      <td>14.0</td>\n",
       "      <td>15200</td>\n",
       "    </tr>\n",
       "    <tr>\n",
       "      <th>2</th>\n",
       "      <td>1000001</td>\n",
       "      <td>P00087842</td>\n",
       "      <td>F</td>\n",
       "      <td>0-17</td>\n",
       "      <td>10</td>\n",
       "      <td>A</td>\n",
       "      <td>2</td>\n",
       "      <td>0</td>\n",
       "      <td>12</td>\n",
       "      <td>NaN</td>\n",
       "      <td>NaN</td>\n",
       "      <td>1422</td>\n",
       "    </tr>\n",
       "    <tr>\n",
       "      <th>3</th>\n",
       "      <td>1000001</td>\n",
       "      <td>P00085442</td>\n",
       "      <td>F</td>\n",
       "      <td>0-17</td>\n",
       "      <td>10</td>\n",
       "      <td>A</td>\n",
       "      <td>2</td>\n",
       "      <td>0</td>\n",
       "      <td>12</td>\n",
       "      <td>14.0</td>\n",
       "      <td>NaN</td>\n",
       "      <td>1057</td>\n",
       "    </tr>\n",
       "    <tr>\n",
       "      <th>4</th>\n",
       "      <td>1000002</td>\n",
       "      <td>P00285442</td>\n",
       "      <td>M</td>\n",
       "      <td>55+</td>\n",
       "      <td>16</td>\n",
       "      <td>C</td>\n",
       "      <td>4+</td>\n",
       "      <td>0</td>\n",
       "      <td>8</td>\n",
       "      <td>NaN</td>\n",
       "      <td>NaN</td>\n",
       "      <td>7969</td>\n",
       "    </tr>\n",
       "  </tbody>\n",
       "</table>\n",
       "</div>"
      ],
      "text/plain": [
       "   User_ID Product_ID Gender   Age  Occupation City_Category  \\\n",
       "0  1000001  P00069042      F  0-17          10             A   \n",
       "1  1000001  P00248942      F  0-17          10             A   \n",
       "2  1000001  P00087842      F  0-17          10             A   \n",
       "3  1000001  P00085442      F  0-17          10             A   \n",
       "4  1000002  P00285442      M   55+          16             C   \n",
       "\n",
       "  Stay_In_Current_City_Years  Marital_Status  Product_Category_1  \\\n",
       "0                          2               0                   3   \n",
       "1                          2               0                   1   \n",
       "2                          2               0                  12   \n",
       "3                          2               0                  12   \n",
       "4                         4+               0                   8   \n",
       "\n",
       "   Product_Category_2  Product_Category_3  Purchase  \n",
       "0                 NaN                 NaN      8370  \n",
       "1                 6.0                14.0     15200  \n",
       "2                 NaN                 NaN      1422  \n",
       "3                14.0                 NaN      1057  \n",
       "4                 NaN                 NaN      7969  "
      ]
     },
     "execution_count": 3,
     "metadata": {},
     "output_type": "execute_result"
    }
   ],
   "source": [
    "df.head()"
   ]
  },
  {
   "cell_type": "code",
   "execution_count": 4,
   "metadata": {},
   "outputs": [
    {
     "data": {
      "text/html": [
       "<div>\n",
       "<style scoped>\n",
       "    .dataframe tbody tr th:only-of-type {\n",
       "        vertical-align: middle;\n",
       "    }\n",
       "\n",
       "    .dataframe tbody tr th {\n",
       "        vertical-align: top;\n",
       "    }\n",
       "\n",
       "    .dataframe thead th {\n",
       "        text-align: right;\n",
       "    }\n",
       "</style>\n",
       "<table border=\"1\" class=\"dataframe\">\n",
       "  <thead>\n",
       "    <tr style=\"text-align: right;\">\n",
       "      <th></th>\n",
       "      <th>User_ID</th>\n",
       "      <th>Product_ID</th>\n",
       "      <th>Gender</th>\n",
       "      <th>Age</th>\n",
       "      <th>Occupation</th>\n",
       "      <th>City_Category</th>\n",
       "      <th>Stay_In_Current_City_Years</th>\n",
       "      <th>Marital_Status</th>\n",
       "      <th>Product_Category_1</th>\n",
       "      <th>Product_Category_2</th>\n",
       "      <th>Product_Category_3</th>\n",
       "    </tr>\n",
       "  </thead>\n",
       "  <tbody>\n",
       "    <tr>\n",
       "      <th>0</th>\n",
       "      <td>1000004</td>\n",
       "      <td>P00128942</td>\n",
       "      <td>M</td>\n",
       "      <td>46-50</td>\n",
       "      <td>7</td>\n",
       "      <td>B</td>\n",
       "      <td>2</td>\n",
       "      <td>1</td>\n",
       "      <td>1</td>\n",
       "      <td>11.0</td>\n",
       "      <td>NaN</td>\n",
       "    </tr>\n",
       "    <tr>\n",
       "      <th>1</th>\n",
       "      <td>1000009</td>\n",
       "      <td>P00113442</td>\n",
       "      <td>M</td>\n",
       "      <td>26-35</td>\n",
       "      <td>17</td>\n",
       "      <td>C</td>\n",
       "      <td>0</td>\n",
       "      <td>0</td>\n",
       "      <td>3</td>\n",
       "      <td>5.0</td>\n",
       "      <td>NaN</td>\n",
       "    </tr>\n",
       "    <tr>\n",
       "      <th>2</th>\n",
       "      <td>1000010</td>\n",
       "      <td>P00288442</td>\n",
       "      <td>F</td>\n",
       "      <td>36-45</td>\n",
       "      <td>1</td>\n",
       "      <td>B</td>\n",
       "      <td>4+</td>\n",
       "      <td>1</td>\n",
       "      <td>5</td>\n",
       "      <td>14.0</td>\n",
       "      <td>NaN</td>\n",
       "    </tr>\n",
       "    <tr>\n",
       "      <th>3</th>\n",
       "      <td>1000010</td>\n",
       "      <td>P00145342</td>\n",
       "      <td>F</td>\n",
       "      <td>36-45</td>\n",
       "      <td>1</td>\n",
       "      <td>B</td>\n",
       "      <td>4+</td>\n",
       "      <td>1</td>\n",
       "      <td>4</td>\n",
       "      <td>9.0</td>\n",
       "      <td>NaN</td>\n",
       "    </tr>\n",
       "    <tr>\n",
       "      <th>4</th>\n",
       "      <td>1000011</td>\n",
       "      <td>P00053842</td>\n",
       "      <td>F</td>\n",
       "      <td>26-35</td>\n",
       "      <td>1</td>\n",
       "      <td>C</td>\n",
       "      <td>1</td>\n",
       "      <td>0</td>\n",
       "      <td>4</td>\n",
       "      <td>5.0</td>\n",
       "      <td>12.0</td>\n",
       "    </tr>\n",
       "  </tbody>\n",
       "</table>\n",
       "</div>"
      ],
      "text/plain": [
       "   User_ID Product_ID Gender    Age  Occupation City_Category  \\\n",
       "0  1000004  P00128942      M  46-50           7             B   \n",
       "1  1000009  P00113442      M  26-35          17             C   \n",
       "2  1000010  P00288442      F  36-45           1             B   \n",
       "3  1000010  P00145342      F  36-45           1             B   \n",
       "4  1000011  P00053842      F  26-35           1             C   \n",
       "\n",
       "  Stay_In_Current_City_Years  Marital_Status  Product_Category_1  \\\n",
       "0                          2               1                   1   \n",
       "1                          0               0                   3   \n",
       "2                         4+               1                   5   \n",
       "3                         4+               1                   4   \n",
       "4                          1               0                   4   \n",
       "\n",
       "   Product_Category_2  Product_Category_3  \n",
       "0                11.0                 NaN  \n",
       "1                 5.0                 NaN  \n",
       "2                14.0                 NaN  \n",
       "3                 9.0                 NaN  \n",
       "4                 5.0                12.0  "
      ]
     },
     "execution_count": 4,
     "metadata": {},
     "output_type": "execute_result"
    }
   ],
   "source": [
    "test_data.head()"
   ]
  },
  {
   "cell_type": "markdown",
   "metadata": {},
   "source": [
    "### Filling Null Values of Train Data"
   ]
  },
  {
   "cell_type": "code",
   "execution_count": 5,
   "metadata": {},
   "outputs": [
    {
     "data": {
      "text/plain": [
       "User_ID                            0\n",
       "Product_ID                         0\n",
       "Gender                             0\n",
       "Age                                0\n",
       "Occupation                         0\n",
       "City_Category                      0\n",
       "Stay_In_Current_City_Years         0\n",
       "Marital_Status                     0\n",
       "Product_Category_1                 0\n",
       "Product_Category_2            173638\n",
       "Product_Category_3            383247\n",
       "Purchase                           0\n",
       "dtype: int64"
      ]
     },
     "execution_count": 5,
     "metadata": {},
     "output_type": "execute_result"
    }
   ],
   "source": [
    "df.isnull().sum()"
   ]
  },
  {
   "cell_type": "code",
   "execution_count": 6,
   "metadata": {},
   "outputs": [],
   "source": [
    "mode = df['Product_Category_2'].mode() \n",
    "df['Product_Category_2'].fillna(mode[0], inplace =True)"
   ]
  },
  {
   "cell_type": "code",
   "execution_count": 7,
   "metadata": {},
   "outputs": [],
   "source": [
    "mode = df['Product_Category_3'].mode() \n",
    "df['Product_Category_3'].fillna(mode[0], inplace =True)"
   ]
  },
  {
   "cell_type": "code",
   "execution_count": 8,
   "metadata": {},
   "outputs": [
    {
     "data": {
      "text/plain": [
       "User_ID                       0\n",
       "Product_ID                    0\n",
       "Gender                        0\n",
       "Age                           0\n",
       "Occupation                    0\n",
       "City_Category                 0\n",
       "Stay_In_Current_City_Years    0\n",
       "Marital_Status                0\n",
       "Product_Category_1            0\n",
       "Product_Category_2            0\n",
       "Product_Category_3            0\n",
       "Purchase                      0\n",
       "dtype: int64"
      ]
     },
     "execution_count": 8,
     "metadata": {},
     "output_type": "execute_result"
    }
   ],
   "source": [
    "df.isnull().sum()"
   ]
  },
  {
   "cell_type": "markdown",
   "metadata": {},
   "source": [
    "### Splitting the Train Data( i.e df ) into train and test (80% of df is train and 20% of df is test)"
   ]
  },
  {
   "cell_type": "code",
   "execution_count": 9,
   "metadata": {},
   "outputs": [],
   "source": [
    "from sklearn.model_selection import train_test_split\n",
    "train , test = train_test_split(df, test_size = 0.2)"
   ]
  },
  {
   "cell_type": "code",
   "execution_count": 10,
   "metadata": {},
   "outputs": [
    {
     "name": "stdout",
     "output_type": "stream",
     "text": [
      "(440054, 12) (110014, 12)\n"
     ]
    }
   ],
   "source": [
    "print(train.shape,test.shape)"
   ]
  },
  {
   "cell_type": "markdown",
   "metadata": {},
   "source": [
    "### Reading the Submission File"
   ]
  },
  {
   "cell_type": "code",
   "execution_count": 11,
   "metadata": {},
   "outputs": [],
   "source": [
    "submission = pd.read_csv(r'D:\\Downloads\\Data Science\\Analytics_Vidya\\Dataset\\Black Friday Sales\\sample_submission.csv')"
   ]
  },
  {
   "cell_type": "code",
   "execution_count": 12,
   "metadata": {},
   "outputs": [
    {
     "data": {
      "text/html": [
       "<div>\n",
       "<style scoped>\n",
       "    .dataframe tbody tr th:only-of-type {\n",
       "        vertical-align: middle;\n",
       "    }\n",
       "\n",
       "    .dataframe tbody tr th {\n",
       "        vertical-align: top;\n",
       "    }\n",
       "\n",
       "    .dataframe thead th {\n",
       "        text-align: right;\n",
       "    }\n",
       "</style>\n",
       "<table border=\"1\" class=\"dataframe\">\n",
       "  <thead>\n",
       "    <tr style=\"text-align: right;\">\n",
       "      <th></th>\n",
       "      <th>Purchase</th>\n",
       "      <th>User_ID</th>\n",
       "      <th>Product_ID</th>\n",
       "    </tr>\n",
       "  </thead>\n",
       "  <tbody>\n",
       "    <tr>\n",
       "      <th>0</th>\n",
       "      <td>100</td>\n",
       "      <td>1000004</td>\n",
       "      <td>P00128942</td>\n",
       "    </tr>\n",
       "    <tr>\n",
       "      <th>1</th>\n",
       "      <td>100</td>\n",
       "      <td>1000009</td>\n",
       "      <td>P00113442</td>\n",
       "    </tr>\n",
       "    <tr>\n",
       "      <th>2</th>\n",
       "      <td>100</td>\n",
       "      <td>1000010</td>\n",
       "      <td>P00288442</td>\n",
       "    </tr>\n",
       "    <tr>\n",
       "      <th>3</th>\n",
       "      <td>100</td>\n",
       "      <td>1000010</td>\n",
       "      <td>P00145342</td>\n",
       "    </tr>\n",
       "    <tr>\n",
       "      <th>4</th>\n",
       "      <td>100</td>\n",
       "      <td>1000011</td>\n",
       "      <td>P00053842</td>\n",
       "    </tr>\n",
       "  </tbody>\n",
       "</table>\n",
       "</div>"
      ],
      "text/plain": [
       "   Purchase  User_ID Product_ID\n",
       "0       100  1000004  P00128942\n",
       "1       100  1000009  P00113442\n",
       "2       100  1000010  P00288442\n",
       "3       100  1000010  P00145342\n",
       "4       100  1000011  P00053842"
      ]
     },
     "execution_count": 12,
     "metadata": {},
     "output_type": "execute_result"
    }
   ],
   "source": [
    "submission.head()"
   ]
  },
  {
   "cell_type": "markdown",
   "metadata": {},
   "source": [
    "### Storing the values of the user id and product id of test data into the submission data"
   ]
  },
  {
   "cell_type": "code",
   "execution_count": 13,
   "metadata": {},
   "outputs": [],
   "source": [
    "submission['User_ID'] = test_data['User_ID']\n",
    "submission['Product_ID'] = test_data['Product_ID']"
   ]
  },
  {
   "cell_type": "code",
   "execution_count": 14,
   "metadata": {},
   "outputs": [
    {
     "data": {
      "text/html": [
       "<div>\n",
       "<style scoped>\n",
       "    .dataframe tbody tr th:only-of-type {\n",
       "        vertical-align: middle;\n",
       "    }\n",
       "\n",
       "    .dataframe tbody tr th {\n",
       "        vertical-align: top;\n",
       "    }\n",
       "\n",
       "    .dataframe thead th {\n",
       "        text-align: right;\n",
       "    }\n",
       "</style>\n",
       "<table border=\"1\" class=\"dataframe\">\n",
       "  <thead>\n",
       "    <tr style=\"text-align: right;\">\n",
       "      <th></th>\n",
       "      <th>Purchase</th>\n",
       "      <th>User_ID</th>\n",
       "      <th>Product_ID</th>\n",
       "    </tr>\n",
       "  </thead>\n",
       "  <tbody>\n",
       "    <tr>\n",
       "      <th>0</th>\n",
       "      <td>100</td>\n",
       "      <td>1000004</td>\n",
       "      <td>P00128942</td>\n",
       "    </tr>\n",
       "    <tr>\n",
       "      <th>1</th>\n",
       "      <td>100</td>\n",
       "      <td>1000009</td>\n",
       "      <td>P00113442</td>\n",
       "    </tr>\n",
       "    <tr>\n",
       "      <th>2</th>\n",
       "      <td>100</td>\n",
       "      <td>1000010</td>\n",
       "      <td>P00288442</td>\n",
       "    </tr>\n",
       "    <tr>\n",
       "      <th>3</th>\n",
       "      <td>100</td>\n",
       "      <td>1000010</td>\n",
       "      <td>P00145342</td>\n",
       "    </tr>\n",
       "    <tr>\n",
       "      <th>4</th>\n",
       "      <td>100</td>\n",
       "      <td>1000011</td>\n",
       "      <td>P00053842</td>\n",
       "    </tr>\n",
       "  </tbody>\n",
       "</table>\n",
       "</div>"
      ],
      "text/plain": [
       "   Purchase  User_ID Product_ID\n",
       "0       100  1000004  P00128942\n",
       "1       100  1000009  P00113442\n",
       "2       100  1000010  P00288442\n",
       "3       100  1000010  P00145342\n",
       "4       100  1000011  P00053842"
      ]
     },
     "execution_count": 14,
     "metadata": {},
     "output_type": "execute_result"
    }
   ],
   "source": [
    "submission.head()"
   ]
  },
  {
   "cell_type": "code",
   "execution_count": 15,
   "metadata": {},
   "outputs": [
    {
     "data": {
      "text/plain": [
       "User_ID                            0\n",
       "Product_ID                         0\n",
       "Gender                             0\n",
       "Age                                0\n",
       "Occupation                         0\n",
       "City_Category                      0\n",
       "Stay_In_Current_City_Years         0\n",
       "Marital_Status                     0\n",
       "Product_Category_1                 0\n",
       "Product_Category_2             72344\n",
       "Product_Category_3            162562\n",
       "dtype: int64"
      ]
     },
     "execution_count": 15,
     "metadata": {},
     "output_type": "execute_result"
    }
   ],
   "source": [
    "test_data.isna().sum()"
   ]
  },
  {
   "cell_type": "code",
   "execution_count": 16,
   "metadata": {},
   "outputs": [],
   "source": [
    "mode = test_data['Product_Category_2'].mode() \n",
    "test_data['Product_Category_2'].fillna(mode[0], inplace =True)"
   ]
  },
  {
   "cell_type": "code",
   "execution_count": 17,
   "metadata": {},
   "outputs": [],
   "source": [
    "mode = test_data['Product_Category_3'].mode() \n",
    "test_data['Product_Category_3'].fillna(mode[0], inplace =True)"
   ]
  },
  {
   "cell_type": "code",
   "execution_count": 18,
   "metadata": {},
   "outputs": [
    {
     "data": {
      "text/plain": [
       "User_ID                       0\n",
       "Product_ID                    0\n",
       "Gender                        0\n",
       "Age                           0\n",
       "Occupation                    0\n",
       "City_Category                 0\n",
       "Stay_In_Current_City_Years    0\n",
       "Marital_Status                0\n",
       "Product_Category_1            0\n",
       "Product_Category_2            0\n",
       "Product_Category_3            0\n",
       "dtype: int64"
      ]
     },
     "execution_count": 18,
     "metadata": {},
     "output_type": "execute_result"
    }
   ],
   "source": [
    "test_data.isna().sum()"
   ]
  },
  {
   "cell_type": "code",
   "execution_count": null,
   "metadata": {},
   "outputs": [],
   "source": []
  },
  {
   "cell_type": "markdown",
   "metadata": {},
   "source": [
    "## EDA"
   ]
  },
  {
   "cell_type": "markdown",
   "metadata": {},
   "source": [
    "### Age vs Purchase"
   ]
  },
  {
   "cell_type": "code",
   "execution_count": 19,
   "metadata": {},
   "outputs": [
    {
     "data": {
      "text/plain": [
       "<matplotlib.axes._subplots.AxesSubplot at 0x1ab0f294fd0>"
      ]
     },
     "execution_count": 19,
     "metadata": {},
     "output_type": "execute_result"
    }
   ],
   "source": [
    "train.groupby('Age').Purchase.sum().plot(kind='bar')"
   ]
  },
  {
   "cell_type": "code",
   "execution_count": 20,
   "metadata": {},
   "outputs": [
    {
     "data": {
      "text/plain": [
       "{'Purchase': {'0-17': 108246056,\n",
       "  '18-25': 730920234,\n",
       "  '26-35': 1625274636,\n",
       "  '36-45': 818885843,\n",
       "  '46-50': 336763890,\n",
       "  '51-55': 294778927,\n",
       "  '55+': 160174252}}"
      ]
     },
     "execution_count": 20,
     "metadata": {},
     "output_type": "execute_result"
    }
   ],
   "source": [
    "age_purchase = train.groupby('Age').agg({'Purchase' : 'sum'}).apply(lambda x : x.tolist()).to_dict()\n",
    "age_purchase"
   ]
  },
  {
   "cell_type": "markdown",
   "metadata": {},
   "source": [
    "#### It can be observed that the customers of the age between 26-35 purchase more products."
   ]
  },
  {
   "cell_type": "markdown",
   "metadata": {},
   "source": [
    "### City vs Purchase"
   ]
  },
  {
   "cell_type": "code",
   "execution_count": 21,
   "metadata": {},
   "outputs": [
    {
     "data": {
      "text/plain": [
       "<matplotlib.axes._subplots.AxesSubplot at 0x1ab0f1c7c88>"
      ]
     },
     "execution_count": 21,
     "metadata": {},
     "output_type": "execute_result"
    },
    {
     "data": {
      "image/png": "[encoded data removed]",
      "text/plain": [
       "<Figure size 432x288 with 1 Axes>"
      ]
     },
     "metadata": {
      "needs_background": "light"
     },
     "output_type": "display_data"
    }
   ],
   "source": [
    "train.groupby('City_Category').Purchase.sum().plot(kind='bar')"
   ]
  },
  {
   "cell_type": "code",
   "execution_count": 22,
   "metadata": {},
   "outputs": [
    {
     "data": {
      "text/plain": [
       "{'Purchase': {'A': 1052236871, 'B': 1692821581, 'C': 1329985386}}"
      ]
     },
     "execution_count": 22,
     "metadata": {},
     "output_type": "execute_result"
    }
   ],
   "source": [
    "city_purchase = train.groupby('City_Category').agg({'Purchase' : 'sum'}).apply(lambda x : x.tolist()).to_dict()\n",
    "city_purchase"
   ]
  },
  {
   "cell_type": "markdown",
   "metadata": {},
   "source": [
    "### Marital Status vs Purchase"
   ]
  },
  {
   "cell_type": "code",
   "execution_count": 23,
   "metadata": {},
   "outputs": [
    {
     "data": {
      "text/plain": [
       "<matplotlib.axes._subplots.AxesSubplot at 0x1ab0ad5ccc0>"
      ]
     },
     "execution_count": 23,
     "metadata": {},
     "output_type": "execute_result"
    },
    {
     "data": {
      "image/png": "[encoded data removed]",
      "text/plain": [
       "<Figure size 432x288 with 1 Axes>"
      ]
     },
     "metadata": {
      "needs_background": "light"
     },
     "output_type": "display_data"
    }
   ],
   "source": [
    "train.groupby('Marital_Status').Purchase.sum().plot(kind='bar')"
   ]
  },
  {
   "cell_type": "code",
   "execution_count": 24,
   "metadata": {},
   "outputs": [
    {
     "data": {
      "text/plain": [
       "{'Purchase': {0: 2406218946, 1: 1668824892}}"
      ]
     },
     "execution_count": 24,
     "metadata": {},
     "output_type": "execute_result"
    }
   ],
   "source": [
    "married_purchase = train.groupby('Marital_Status').agg({'Purchase' : 'sum'}).apply(lambda x : x.tolist()).to_dict()\n",
    "married_purchase"
   ]
  },
  {
   "cell_type": "markdown",
   "metadata": {},
   "source": [
    "### Product Category 1 vs Purchase"
   ]
  },
  {
   "cell_type": "code",
   "execution_count": 25,
   "metadata": {},
   "outputs": [
    {
     "data": {
      "text/plain": [
       "<matplotlib.axes._subplots.AxesSubplot at 0x1ab0f5b8780>"
      ]
     },
     "execution_count": 25,
     "metadata": {},
     "output_type": "execute_result"
    },
    {
     "data": {
      "image/png": "[encoded data removed]",
      "text/plain": [
       "<Figure size 432x288 with 1 Axes>"
      ]
     },
     "metadata": {
      "needs_background": "light"
     },
     "output_type": "display_data"
    }
   ],
   "source": [
    "train.groupby('Product_Category_1').Purchase.sum().plot(kind='bar')"
   ]
  },
  {
   "cell_type": "code",
   "execution_count": 26,
   "metadata": {},
   "outputs": [
    {
     "data": {
      "text/plain": [
       "{'Purchase': {1: 1524769687,\n",
       "  2: 215018634,\n",
       "  3: 162167590,\n",
       "  4: 22012920,\n",
       "  5: 756095833,\n",
       "  6: 260250437,\n",
       "  7: 49669025,\n",
       "  8: 682910302,\n",
       "  9: 5098779,\n",
       "  10: 80420376,\n",
       "  11: 90770223,\n",
       "  12: 4226230,\n",
       "  13: 3212242,\n",
       "  14: 15870985,\n",
       "  15: 74538072,\n",
       "  16: 115144319,\n",
       "  17: 4556213,\n",
       "  18: 7509807,\n",
       "  19: 47176,\n",
       "  20: 754988}}"
      ]
     },
     "execution_count": 26,
     "metadata": {},
     "output_type": "execute_result"
    }
   ],
   "source": [
    "product_one = train.groupby('Product_Category_1').agg({'Purchase' : 'sum'}).apply(lambda x : x.tolist()).to_dict()\n",
    "product_one"
   ]
  },
  {
   "cell_type": "markdown",
   "metadata": {},
   "source": [
    "### Product Category 2 vs Purchase"
   ]
  },
  {
   "cell_type": "code",
   "execution_count": 27,
   "metadata": {},
   "outputs": [
    {
     "data": {
      "text/plain": [
       "<matplotlib.axes._subplots.AxesSubplot at 0x1ab0f25c128>"
      ]
     },
     "execution_count": 27,
     "metadata": {},
     "output_type": "execute_result"
    },
    {
     "data": {
      "image/png": "[encoded data removed]",
      "text/plain": [
       "<Figure size 432x288 with 1 Axes>"
      ]
     },
     "metadata": {
      "needs_background": "light"
     },
     "output_type": "display_data"
    }
   ],
   "source": [
    "train.groupby('Product_Category_2').Purchase.sum().plot(kind='bar')"
   ]
  },
  {
   "cell_type": "code",
   "execution_count": 28,
   "metadata": {},
   "outputs": [
    {
     "data": {
      "text/plain": [
       "{'Purchase': {2.0: 535203781,\n",
       "  3.0: 25968576,\n",
       "  4.0: 209026207,\n",
       "  5.0: 189482665,\n",
       "  6.0: 151199698,\n",
       "  7.0: 3392083,\n",
       "  8.0: 1574413326,\n",
       "  9.0: 33265569,\n",
       "  10.0: 38315224,\n",
       "  11.0: 99631102,\n",
       "  12.0: 30998002,\n",
       "  13.0: 81738774,\n",
       "  14.0: 312940747,\n",
       "  15.0: 312407142,\n",
       "  16.0: 355978191,\n",
       "  17.0: 100534083,\n",
       "  18.0: 20548668}}"
      ]
     },
     "execution_count": 28,
     "metadata": {},
     "output_type": "execute_result"
    }
   ],
   "source": [
    "product_two = train.groupby('Product_Category_2').agg({'Purchase' : 'sum'}).apply(lambda x : x.tolist()).to_dict()\n",
    "product_two"
   ]
  },
  {
   "cell_type": "markdown",
   "metadata": {},
   "source": [
    "### Product Category 3 vs Purchase"
   ]
  },
  {
   "cell_type": "code",
   "execution_count": 29,
   "metadata": {},
   "outputs": [
    {
     "data": {
      "text/plain": [
       "<matplotlib.axes._subplots.AxesSubplot at 0x1ab04f62630>"
      ]
     },
     "execution_count": 29,
     "metadata": {},
     "output_type": "execute_result"
    },
    {
     "data": {
      "image/png": "[encoded data removed]",
      "text/plain": [
       "<Figure size 432x288 with 1 Axes>"
      ]
     },
     "metadata": {
      "needs_background": "light"
     },
     "output_type": "display_data"
    }
   ],
   "source": [
    "train.groupby('Product_Category_3').Purchase.sum().plot(kind='bar')"
   ]
  },
  {
   "cell_type": "code",
   "execution_count": 30,
   "metadata": {},
   "outputs": [
    {
     "data": {
      "text/plain": [
       "{'Purchase': {3.0: 6701972,\n",
       "  4.0: 14552428,\n",
       "  5.0: 160989220,\n",
       "  6.0: 51969243,\n",
       "  8.0: 130516783,\n",
       "  9.0: 96139838,\n",
       "  10.0: 18653858,\n",
       "  11.0: 17283911,\n",
       "  12.0: 64414484,\n",
       "  13.0: 57801918,\n",
       "  14.0: 148166488,\n",
       "  15.0: 275967281,\n",
       "  16.0: 2834361882,\n",
       "  17.0: 156984649,\n",
       "  18.0: 40539883}}"
      ]
     },
     "execution_count": 30,
     "metadata": {},
     "output_type": "execute_result"
    }
   ],
   "source": [
    "product_three = train.groupby('Product_Category_3').agg({'Purchase' : 'sum'}).apply(lambda x : x.tolist()).to_dict()\n",
    "product_three"
   ]
  },
  {
   "cell_type": "markdown",
   "metadata": {},
   "source": [
    "### Occupation vs Purchase"
   ]
  },
  {
   "cell_type": "code",
   "execution_count": 31,
   "metadata": {},
   "outputs": [
    {
     "data": {
      "text/plain": [
       "<matplotlib.axes._subplots.AxesSubplot at 0x1ab0f38eb00>"
      ]
     },
     "execution_count": 31,
     "metadata": {},
     "output_type": "execute_result"
    },
    {
     "data": {
      "image/png": "[encoded data removed]",
      "text/plain": [
       "<Figure size 432x288 with 1 Axes>"
      ]
     },
     "metadata": {
      "needs_background": "light"
     },
     "output_type": "display_data"
    }
   ],
   "source": [
    "train.groupby('Occupation').Purchase.sum().plot(kind='bar')"
   ]
  },
  {
   "cell_type": "code",
   "execution_count": 32,
   "metadata": {},
   "outputs": [
    {
     "data": {
      "text/plain": [
       "{'Purchase': {0: 507913623,\n",
       "  1: 340178024,\n",
       "  2: 189842740,\n",
       "  3: 129077162,\n",
       "  4: 533534789,\n",
       "  5: 90154820,\n",
       "  6: 150824351,\n",
       "  7: 444640593,\n",
       "  8: 11481745,\n",
       "  9: 43063236,\n",
       "  10: 92777510,\n",
       "  11: 85180474,\n",
       "  12: 244881024,\n",
       "  13: 57825135,\n",
       "  14: 208376253,\n",
       "  15: 94988803,\n",
       "  16: 191323808,\n",
       "  17: 315195887,\n",
       "  18: 48358538,\n",
       "  19: 58988955,\n",
       "  20: 236436368}}"
      ]
     },
     "execution_count": 32,
     "metadata": {},
     "output_type": "execute_result"
    }
   ],
   "source": [
    "occ_purchase = train.groupby('Occupation').agg({'Purchase' : 'sum'}).apply(lambda x : x.tolist()).to_dict()\n",
    "occ_purchase"
   ]
  },
  {
   "cell_type": "markdown",
   "metadata": {},
   "source": [
    "### Stay in Current City vs Purchase"
   ]
  },
  {
   "cell_type": "code",
   "execution_count": 33,
   "metadata": {},
   "outputs": [
    {
     "data": {
      "text/plain": [
       "<matplotlib.axes._subplots.AxesSubplot at 0x1ab0f508080>"
      ]
     },
     "execution_count": 33,
     "metadata": {},
     "output_type": "execute_result"
    },
    {
     "data": {
      "image/png": "[encoded data removed]",
      "text/plain": [
       "<Figure size 432x288 with 1 Axes>"
      ]
     },
     "metadata": {
      "needs_background": "light"
     },
     "output_type": "display_data"
    }
   ],
   "source": [
    "train.groupby('Stay_In_Current_City_Years').Purchase.sum().plot(kind='bar')"
   ]
  },
  {
   "cell_type": "code",
   "execution_count": 34,
   "metadata": {},
   "outputs": [
    {
     "data": {
      "text/plain": [
       "{'Purchase': {'0': 545316978,\n",
       "  '1': 1433099387,\n",
       "  '2': 759138599,\n",
       "  '3': 707788090,\n",
       "  '4+': 629700784}}"
      ]
     },
     "execution_count": 34,
     "metadata": {},
     "output_type": "execute_result"
    }
   ],
   "source": [
    "stay_in_city_purchase = train.groupby('Stay_In_Current_City_Years').agg({'Purchase' : 'sum'}).apply(lambda x : x.tolist()).to_dict()\n",
    "stay_in_city_purchase"
   ]
  },
  {
   "cell_type": "markdown",
   "metadata": {},
   "source": [
    "## Feature Engineering"
   ]
  },
  {
   "cell_type": "code",
   "execution_count": 35,
   "metadata": {},
   "outputs": [
    {
     "data": {
      "text/plain": [
       "Index(['User_ID', 'Product_ID', 'Gender', 'Age', 'Occupation', 'City_Category',\n",
       "       'Stay_In_Current_City_Years', 'Marital_Status', 'Product_Category_1',\n",
       "       'Product_Category_2', 'Product_Category_3', 'Purchase'],\n",
       "      dtype='object')"
      ]
     },
     "execution_count": 35,
     "metadata": {},
     "output_type": "execute_result"
    }
   ],
   "source": [
    "train.columns"
   ]
  },
  {
   "cell_type": "markdown",
   "metadata": {},
   "source": [
    "### City , Age , Gender , Marital Status , Occupation , Product Category1 , Product Category2 , Product Category3 -Wise Average Purchase"
   ]
  },
  {
   "cell_type": "code",
   "execution_count": 36,
   "metadata": {},
   "outputs": [],
   "source": [
    "city_purchase = train.groupby('City_Category').agg({'Purchase':'mean'}).reset_index()\n",
    "city_purchase.columns = ['City_Category','CityCategory_Purchase']\n",
    "train = pd.merge(train,city_purchase,how='left',on=['City_Category'])\n",
    "test = pd.merge(test,city_purchase,how='left',on=['City_Category'])\n",
    "test_data = pd.merge(test_data,city_purchase,how='left',on=['City_Category'])"
   ]
  },
  {
   "cell_type": "code",
   "execution_count": 37,
   "metadata": {},
   "outputs": [],
   "source": [
    "age_purch = train.groupby('Age').agg({'Purchase':'mean'}).reset_index()\n",
    "age_purch.columns = ['Age','Age_Purchase']\n",
    "train = pd.merge(train,age_purch,how='left',on=['Age'])\n",
    "test = pd.merge(test,age_purch,how='left',on=['Age'])\n",
    "test_data = pd.merge(test_data,age_purch,how='left',on=['Age'])"
   ]
  },
  {
   "cell_type": "code",
   "execution_count": 38,
   "metadata": {},
   "outputs": [],
   "source": [
    "gender_purch = train.groupby('Gender').agg({'Purchase':'mean'}).reset_index()\n",
    "gender_purch.columns = ['Gender','Gender_Purchase']\n",
    "train = pd.merge(train,gender_purch,how='left',on=['Gender'])\n",
    "test = pd.merge(test,gender_purch,how='left',on=['Gender'])\n",
    "test_data = pd.merge(test_data,gender_purch,how='left',on=['Gender'])"
   ]
  },
  {
   "cell_type": "code",
   "execution_count": 39,
   "metadata": {},
   "outputs": [],
   "source": [
    "marital_purch = train.groupby('Marital_Status').agg({'Purchase':'mean'}).reset_index()\n",
    "marital_purch.columns = ['Marital_Status','Marital_Status_Purchase']\n",
    "train = pd.merge(train,marital_purch,how='left',on=['Marital_Status'])\n",
    "test = pd.merge(test,marital_purch,how='left',on=['Marital_Status'])\n",
    "test_data = pd.merge(test_data,marital_purch,how='left',on=['Marital_Status'])"
   ]
  },
  {
   "cell_type": "code",
   "execution_count": 40,
   "metadata": {},
   "outputs": [],
   "source": [
    "occ_purch = train.groupby('Occupation').agg({'Purchase':'mean'}).reset_index()\n",
    "occ_purch.columns = ['Occupation','Occupation_Purchase']\n",
    "train = pd.merge(train,occ_purch,how='left',on=['Occupation'])\n",
    "test = pd.merge(test,occ_purch,how='left',on=['Occupation'])\n",
    "test_data = pd.merge(test_data,occ_purch,how='left',on=['Occupation'])"
   ]
  },
  {
   "cell_type": "code",
   "execution_count": 41,
   "metadata": {},
   "outputs": [],
   "source": [
    "prod1_purch = train.groupby('Product_Category_1').agg({'Purchase':'mean'}).reset_index()\n",
    "prod1_purch.columns = ['Product_Category_1','Prod_Cat1_Purchase']\n",
    "train = pd.merge(train,prod1_purch,how='left',on=['Product_Category_1'])\n",
    "test = pd.merge(test,prod1_purch,how='left',on=['Product_Category_1'])\n",
    "test_data = pd.merge(test_data,prod1_purch,how='left',on=['Product_Category_1'])"
   ]
  },
  {
   "cell_type": "code",
   "execution_count": 42,
   "metadata": {},
   "outputs": [],
   "source": [
    "prod2_purch = train.groupby('Product_Category_2').agg({'Purchase':'mean'}).reset_index()\n",
    "prod2_purch.columns = ['Product_Category_2','Prod_Cat2_Purchase']\n",
    "train = pd.merge(train,prod2_purch,how='left',on=['Product_Category_2'])\n",
    "test = pd.merge(test,prod2_purch,how='left',on=['Product_Category_2'])\n",
    "test_data = pd.merge(test_data,prod2_purch,how='left',on=['Product_Category_2'])"
   ]
  },
  {
   "cell_type": "code",
   "execution_count": 43,
   "metadata": {},
   "outputs": [],
   "source": [
    "prod3_purch = train.groupby('Product_Category_3').agg({'Purchase':'mean'}).reset_index()\n",
    "prod3_purch.columns = ['Product_Category_3','Prod_Cat3_Purchase']\n",
    "train = pd.merge(train,prod3_purch,how='left',on=['Product_Category_3'])\n",
    "test = pd.merge(test,prod3_purch,how='left',on=['Product_Category_3'])\n",
    "test_data = pd.merge(test_data,prod3_purch,how='left',on=['Product_Category_3'])"
   ]
  },
  {
   "cell_type": "code",
   "execution_count": 44,
   "metadata": {},
   "outputs": [
    {
     "data": {
      "text/html": [
       "<div>\n",
       "<style scoped>\n",
       "    .dataframe tbody tr th:only-of-type {\n",
       "        vertical-align: middle;\n",
       "    }\n",
       "\n",
       "    .dataframe tbody tr th {\n",
       "        vertical-align: top;\n",
       "    }\n",
       "\n",
       "    .dataframe thead th {\n",
       "        text-align: right;\n",
       "    }\n",
       "</style>\n",
       "<table border=\"1\" class=\"dataframe\">\n",
       "  <thead>\n",
       "    <tr style=\"text-align: right;\">\n",
       "      <th></th>\n",
       "      <th>User_ID</th>\n",
       "      <th>Product_ID</th>\n",
       "      <th>Gender</th>\n",
       "      <th>Age</th>\n",
       "      <th>Occupation</th>\n",
       "      <th>City_Category</th>\n",
       "      <th>Stay_In_Current_City_Years</th>\n",
       "      <th>Marital_Status</th>\n",
       "      <th>Product_Category_1</th>\n",
       "      <th>Product_Category_2</th>\n",
       "      <th>Product_Category_3</th>\n",
       "      <th>Purchase</th>\n",
       "      <th>CityCategory_Purchase</th>\n",
       "      <th>Age_Purchase</th>\n",
       "      <th>Gender_Purchase</th>\n",
       "      <th>Marital_Status_Purchase</th>\n",
       "      <th>Occupation_Purchase</th>\n",
       "      <th>Prod_Cat1_Purchase</th>\n",
       "      <th>Prod_Cat2_Purchase</th>\n",
       "      <th>Prod_Cat3_Purchase</th>\n",
       "    </tr>\n",
       "  </thead>\n",
       "  <tbody>\n",
       "    <tr>\n",
       "      <th>0</th>\n",
       "      <td>1003693</td>\n",
       "      <td>P00248442</td>\n",
       "      <td>M</td>\n",
       "      <td>26-35</td>\n",
       "      <td>15</td>\n",
       "      <td>B</td>\n",
       "      <td>1</td>\n",
       "      <td>1</td>\n",
       "      <td>3</td>\n",
       "      <td>4.0</td>\n",
       "      <td>16.0</td>\n",
       "      <td>10790</td>\n",
       "      <td>9147.914515</td>\n",
       "      <td>9248.861222</td>\n",
       "      <td>9432.064803</td>\n",
       "      <td>9255.720358</td>\n",
       "      <td>9785.598331</td>\n",
       "      <td>10096.351015</td>\n",
       "      <td>10206.856145</td>\n",
       "      <td>8515.330692</td>\n",
       "    </tr>\n",
       "    <tr>\n",
       "      <th>1</th>\n",
       "      <td>1004121</td>\n",
       "      <td>P00181542</td>\n",
       "      <td>M</td>\n",
       "      <td>46-50</td>\n",
       "      <td>7</td>\n",
       "      <td>B</td>\n",
       "      <td>3</td>\n",
       "      <td>0</td>\n",
       "      <td>11</td>\n",
       "      <td>16.0</td>\n",
       "      <td>16.0</td>\n",
       "      <td>7363</td>\n",
       "      <td>9147.914515</td>\n",
       "      <td>9206.229907</td>\n",
       "      <td>9432.064803</td>\n",
       "      <td>9263.524231</td>\n",
       "      <td>9427.342161</td>\n",
       "      <td>4688.786766</td>\n",
       "      <td>10292.849241</td>\n",
       "      <td>8515.330692</td>\n",
       "    </tr>\n",
       "    <tr>\n",
       "      <th>2</th>\n",
       "      <td>1004112</td>\n",
       "      <td>P00245342</td>\n",
       "      <td>M</td>\n",
       "      <td>46-50</td>\n",
       "      <td>18</td>\n",
       "      <td>B</td>\n",
       "      <td>3</td>\n",
       "      <td>1</td>\n",
       "      <td>11</td>\n",
       "      <td>8.0</td>\n",
       "      <td>16.0</td>\n",
       "      <td>6176</td>\n",
       "      <td>9147.914515</td>\n",
       "      <td>9206.229907</td>\n",
       "      <td>9432.064803</td>\n",
       "      <td>9255.720358</td>\n",
       "      <td>9176.193169</td>\n",
       "      <td>4688.786766</td>\n",
       "      <td>8261.254321</td>\n",
       "      <td>8515.330692</td>\n",
       "    </tr>\n",
       "    <tr>\n",
       "      <th>3</th>\n",
       "      <td>1005294</td>\n",
       "      <td>P00210042</td>\n",
       "      <td>M</td>\n",
       "      <td>26-35</td>\n",
       "      <td>2</td>\n",
       "      <td>A</td>\n",
       "      <td>0</td>\n",
       "      <td>1</td>\n",
       "      <td>8</td>\n",
       "      <td>14.0</td>\n",
       "      <td>16.0</td>\n",
       "      <td>8035</td>\n",
       "      <td>8911.220113</td>\n",
       "      <td>9248.861222</td>\n",
       "      <td>9432.064803</td>\n",
       "      <td>9255.720358</td>\n",
       "      <td>8959.072204</td>\n",
       "      <td>7497.917238</td>\n",
       "      <td>7096.322978</td>\n",
       "      <td>8515.330692</td>\n",
       "    </tr>\n",
       "    <tr>\n",
       "      <th>4</th>\n",
       "      <td>1005387</td>\n",
       "      <td>P00120242</td>\n",
       "      <td>F</td>\n",
       "      <td>26-35</td>\n",
       "      <td>1</td>\n",
       "      <td>B</td>\n",
       "      <td>4+</td>\n",
       "      <td>1</td>\n",
       "      <td>8</td>\n",
       "      <td>8.0</td>\n",
       "      <td>16.0</td>\n",
       "      <td>7998</td>\n",
       "      <td>9147.914515</td>\n",
       "      <td>9248.861222</td>\n",
       "      <td>8736.997186</td>\n",
       "      <td>9255.720358</td>\n",
       "      <td>8947.814825</td>\n",
       "      <td>7497.917238</td>\n",
       "      <td>8261.254321</td>\n",
       "      <td>8515.330692</td>\n",
       "    </tr>\n",
       "  </tbody>\n",
       "</table>\n",
       "</div>"
      ],
      "text/plain": [
       "   User_ID Product_ID Gender    Age  Occupation City_Category  \\\n",
       "0  1003693  P00248442      M  26-35          15             B   \n",
       "1  1004121  P00181542      M  46-50           7             B   \n",
       "2  1004112  P00245342      M  46-50          18             B   \n",
       "3  1005294  P00210042      M  26-35           2             A   \n",
       "4  1005387  P00120242      F  26-35           1             B   \n",
       "\n",
       "  Stay_In_Current_City_Years  Marital_Status  Product_Category_1  \\\n",
       "0                          1               1                   3   \n",
       "1                          3               0                  11   \n",
       "2                          3               1                  11   \n",
       "3                          0               1                   8   \n",
       "4                         4+               1                   8   \n",
       "\n",
       "   Product_Category_2  Product_Category_3  Purchase  CityCategory_Purchase  \\\n",
       "0                 4.0                16.0     10790            9147.914515   \n",
       "1                16.0                16.0      7363            9147.914515   \n",
       "2                 8.0                16.0      6176            9147.914515   \n",
       "3                14.0                16.0      8035            8911.220113   \n",
       "4                 8.0                16.0      7998            9147.914515   \n",
       "\n",
       "   Age_Purchase  Gender_Purchase  Marital_Status_Purchase  \\\n",
       "0   9248.861222      9432.064803              9255.720358   \n",
       "1   9206.229907      9432.064803              9263.524231   \n",
       "2   9206.229907      9432.064803              9255.720358   \n",
       "3   9248.861222      9432.064803              9255.720358   \n",
       "4   9248.861222      8736.997186              9255.720358   \n",
       "\n",
       "   Occupation_Purchase  Prod_Cat1_Purchase  Prod_Cat2_Purchase  \\\n",
       "0          9785.598331        10096.351015        10206.856145   \n",
       "1          9427.342161         4688.786766        10292.849241   \n",
       "2          9176.193169         4688.786766         8261.254321   \n",
       "3          8959.072204         7497.917238         7096.322978   \n",
       "4          8947.814825         7497.917238         8261.254321   \n",
       "\n",
       "   Prod_Cat3_Purchase  \n",
       "0         8515.330692  \n",
       "1         8515.330692  \n",
       "2         8515.330692  \n",
       "3         8515.330692  \n",
       "4         8515.330692  "
      ]
     },
     "execution_count": 44,
     "metadata": {},
     "output_type": "execute_result"
    }
   ],
   "source": [
    "train.head()"
   ]
  },
  {
   "cell_type": "code",
   "execution_count": 45,
   "metadata": {},
   "outputs": [
    {
     "data": {
      "text/html": [
       "<div>\n",
       "<style scoped>\n",
       "    .dataframe tbody tr th:only-of-type {\n",
       "        vertical-align: middle;\n",
       "    }\n",
       "\n",
       "    .dataframe tbody tr th {\n",
       "        vertical-align: top;\n",
       "    }\n",
       "\n",
       "    .dataframe thead th {\n",
       "        text-align: right;\n",
       "    }\n",
       "</style>\n",
       "<table border=\"1\" class=\"dataframe\">\n",
       "  <thead>\n",
       "    <tr style=\"text-align: right;\">\n",
       "      <th></th>\n",
       "      <th>User_ID</th>\n",
       "      <th>Product_ID</th>\n",
       "      <th>Gender</th>\n",
       "      <th>Age</th>\n",
       "      <th>Occupation</th>\n",
       "      <th>City_Category</th>\n",
       "      <th>Stay_In_Current_City_Years</th>\n",
       "      <th>Marital_Status</th>\n",
       "      <th>Product_Category_1</th>\n",
       "      <th>Product_Category_2</th>\n",
       "      <th>Product_Category_3</th>\n",
       "      <th>Purchase</th>\n",
       "      <th>CityCategory_Purchase</th>\n",
       "      <th>Age_Purchase</th>\n",
       "      <th>Gender_Purchase</th>\n",
       "      <th>Marital_Status_Purchase</th>\n",
       "      <th>Occupation_Purchase</th>\n",
       "      <th>Prod_Cat1_Purchase</th>\n",
       "      <th>Prod_Cat2_Purchase</th>\n",
       "      <th>Prod_Cat3_Purchase</th>\n",
       "    </tr>\n",
       "  </thead>\n",
       "  <tbody>\n",
       "    <tr>\n",
       "      <th>0</th>\n",
       "      <td>1002304</td>\n",
       "      <td>P00215242</td>\n",
       "      <td>M</td>\n",
       "      <td>46-50</td>\n",
       "      <td>12</td>\n",
       "      <td>B</td>\n",
       "      <td>2</td>\n",
       "      <td>1</td>\n",
       "      <td>1</td>\n",
       "      <td>2.0</td>\n",
       "      <td>8.0</td>\n",
       "      <td>11607</td>\n",
       "      <td>9147.914515</td>\n",
       "      <td>9206.229907</td>\n",
       "      <td>9432.064803</td>\n",
       "      <td>9255.720358</td>\n",
       "      <td>9793.673972</td>\n",
       "      <td>13614.015063</td>\n",
       "      <td>13627.085449</td>\n",
       "      <td>13017.831937</td>\n",
       "    </tr>\n",
       "    <tr>\n",
       "      <th>1</th>\n",
       "      <td>1003031</td>\n",
       "      <td>P00182142</td>\n",
       "      <td>M</td>\n",
       "      <td>18-25</td>\n",
       "      <td>4</td>\n",
       "      <td>A</td>\n",
       "      <td>3</td>\n",
       "      <td>0</td>\n",
       "      <td>1</td>\n",
       "      <td>5.0</td>\n",
       "      <td>6.0</td>\n",
       "      <td>15573</td>\n",
       "      <td>8911.220113</td>\n",
       "      <td>9170.203423</td>\n",
       "      <td>9432.064803</td>\n",
       "      <td>9263.524231</td>\n",
       "      <td>9210.627162</td>\n",
       "      <td>13614.015063</td>\n",
       "      <td>9026.422685</td>\n",
       "      <td>13183.471081</td>\n",
       "    </tr>\n",
       "    <tr>\n",
       "      <th>2</th>\n",
       "      <td>1001853</td>\n",
       "      <td>P00285642</td>\n",
       "      <td>M</td>\n",
       "      <td>51-55</td>\n",
       "      <td>0</td>\n",
       "      <td>B</td>\n",
       "      <td>1</td>\n",
       "      <td>1</td>\n",
       "      <td>2</td>\n",
       "      <td>5.0</td>\n",
       "      <td>15.0</td>\n",
       "      <td>12972</td>\n",
       "      <td>9147.914515</td>\n",
       "      <td>9539.462380</td>\n",
       "      <td>9432.064803</td>\n",
       "      <td>9255.720358</td>\n",
       "      <td>9119.882624</td>\n",
       "      <td>11248.097615</td>\n",
       "      <td>9026.422685</td>\n",
       "      <td>12336.489987</td>\n",
       "    </tr>\n",
       "    <tr>\n",
       "      <th>3</th>\n",
       "      <td>1004604</td>\n",
       "      <td>P00153842</td>\n",
       "      <td>M</td>\n",
       "      <td>26-35</td>\n",
       "      <td>15</td>\n",
       "      <td>C</td>\n",
       "      <td>1</td>\n",
       "      <td>1</td>\n",
       "      <td>8</td>\n",
       "      <td>14.0</td>\n",
       "      <td>16.0</td>\n",
       "      <td>6129</td>\n",
       "      <td>9713.310932</td>\n",
       "      <td>9248.861222</td>\n",
       "      <td>9432.064803</td>\n",
       "      <td>9255.720358</td>\n",
       "      <td>9785.598331</td>\n",
       "      <td>7497.917238</td>\n",
       "      <td>7096.322978</td>\n",
       "      <td>8515.330692</td>\n",
       "    </tr>\n",
       "    <tr>\n",
       "      <th>4</th>\n",
       "      <td>1000070</td>\n",
       "      <td>P00220342</td>\n",
       "      <td>M</td>\n",
       "      <td>18-25</td>\n",
       "      <td>4</td>\n",
       "      <td>A</td>\n",
       "      <td>2</td>\n",
       "      <td>0</td>\n",
       "      <td>5</td>\n",
       "      <td>8.0</td>\n",
       "      <td>16.0</td>\n",
       "      <td>6972</td>\n",
       "      <td>8911.220113</td>\n",
       "      <td>9170.203423</td>\n",
       "      <td>9432.064803</td>\n",
       "      <td>9263.524231</td>\n",
       "      <td>9210.627162</td>\n",
       "      <td>6238.723311</td>\n",
       "      <td>8261.254321</td>\n",
       "      <td>8515.330692</td>\n",
       "    </tr>\n",
       "  </tbody>\n",
       "</table>\n",
       "</div>"
      ],
      "text/plain": [
       "   User_ID Product_ID Gender    Age  Occupation City_Category  \\\n",
       "0  1002304  P00215242      M  46-50          12             B   \n",
       "1  1003031  P00182142      M  18-25           4             A   \n",
       "2  1001853  P00285642      M  51-55           0             B   \n",
       "3  1004604  P00153842      M  26-35          15             C   \n",
       "4  1000070  P00220342      M  18-25           4             A   \n",
       "\n",
       "  Stay_In_Current_City_Years  Marital_Status  Product_Category_1  \\\n",
       "0                          2               1                   1   \n",
       "1                          3               0                   1   \n",
       "2                          1               1                   2   \n",
       "3                          1               1                   8   \n",
       "4                          2               0                   5   \n",
       "\n",
       "   Product_Category_2  Product_Category_3  Purchase  CityCategory_Purchase  \\\n",
       "0                 2.0                 8.0     11607            9147.914515   \n",
       "1                 5.0                 6.0     15573            8911.220113   \n",
       "2                 5.0                15.0     12972            9147.914515   \n",
       "3                14.0                16.0      6129            9713.310932   \n",
       "4                 8.0                16.0      6972            8911.220113   \n",
       "\n",
       "   Age_Purchase  Gender_Purchase  Marital_Status_Purchase  \\\n",
       "0   9206.229907      9432.064803              9255.720358   \n",
       "1   9170.203423      9432.064803              9263.524231   \n",
       "2   9539.462380      9432.064803              9255.720358   \n",
       "3   9248.861222      9432.064803              9255.720358   \n",
       "4   9170.203423      9432.064803              9263.524231   \n",
       "\n",
       "   Occupation_Purchase  Prod_Cat1_Purchase  Prod_Cat2_Purchase  \\\n",
       "0          9793.673972        13614.015063        13627.085449   \n",
       "1          9210.627162        13614.015063         9026.422685   \n",
       "2          9119.882624        11248.097615         9026.422685   \n",
       "3          9785.598331         7497.917238         7096.322978   \n",
       "4          9210.627162         6238.723311         8261.254321   \n",
       "\n",
       "   Prod_Cat3_Purchase  \n",
       "0        13017.831937  \n",
       "1        13183.471081  \n",
       "2        12336.489987  \n",
       "3         8515.330692  \n",
       "4         8515.330692  "
      ]
     },
     "execution_count": 45,
     "metadata": {},
     "output_type": "execute_result"
    }
   ],
   "source": [
    "test.head()"
   ]
  },
  {
   "cell_type": "code",
   "execution_count": 46,
   "metadata": {},
   "outputs": [
    {
     "data": {
      "text/html": [
       "<div>\n",
       "<style scoped>\n",
       "    .dataframe tbody tr th:only-of-type {\n",
       "        vertical-align: middle;\n",
       "    }\n",
       "\n",
       "    .dataframe tbody tr th {\n",
       "        vertical-align: top;\n",
       "    }\n",
       "\n",
       "    .dataframe thead th {\n",
       "        text-align: right;\n",
       "    }\n",
       "</style>\n",
       "<table border=\"1\" class=\"dataframe\">\n",
       "  <thead>\n",
       "    <tr style=\"text-align: right;\">\n",
       "      <th></th>\n",
       "      <th>User_ID</th>\n",
       "      <th>Product_ID</th>\n",
       "      <th>Gender</th>\n",
       "      <th>Age</th>\n",
       "      <th>Occupation</th>\n",
       "      <th>City_Category</th>\n",
       "      <th>Stay_In_Current_City_Years</th>\n",
       "      <th>Marital_Status</th>\n",
       "      <th>Product_Category_1</th>\n",
       "      <th>Product_Category_2</th>\n",
       "      <th>Product_Category_3</th>\n",
       "      <th>CityCategory_Purchase</th>\n",
       "      <th>Age_Purchase</th>\n",
       "      <th>Gender_Purchase</th>\n",
       "      <th>Marital_Status_Purchase</th>\n",
       "      <th>Occupation_Purchase</th>\n",
       "      <th>Prod_Cat1_Purchase</th>\n",
       "      <th>Prod_Cat2_Purchase</th>\n",
       "      <th>Prod_Cat3_Purchase</th>\n",
       "    </tr>\n",
       "  </thead>\n",
       "  <tbody>\n",
       "    <tr>\n",
       "      <th>0</th>\n",
       "      <td>1000004</td>\n",
       "      <td>P00128942</td>\n",
       "      <td>M</td>\n",
       "      <td>46-50</td>\n",
       "      <td>7</td>\n",
       "      <td>B</td>\n",
       "      <td>2</td>\n",
       "      <td>1</td>\n",
       "      <td>1</td>\n",
       "      <td>11.0</td>\n",
       "      <td>16.0</td>\n",
       "      <td>9147.914515</td>\n",
       "      <td>9206.229907</td>\n",
       "      <td>9432.064803</td>\n",
       "      <td>9255.720358</td>\n",
       "      <td>9427.342161</td>\n",
       "      <td>13614.015063</td>\n",
       "      <td>8891.664614</td>\n",
       "      <td>8515.330692</td>\n",
       "    </tr>\n",
       "    <tr>\n",
       "      <th>1</th>\n",
       "      <td>1000009</td>\n",
       "      <td>P00113442</td>\n",
       "      <td>M</td>\n",
       "      <td>26-35</td>\n",
       "      <td>17</td>\n",
       "      <td>C</td>\n",
       "      <td>0</td>\n",
       "      <td>0</td>\n",
       "      <td>3</td>\n",
       "      <td>5.0</td>\n",
       "      <td>16.0</td>\n",
       "      <td>9713.310932</td>\n",
       "      <td>9248.861222</td>\n",
       "      <td>9432.064803</td>\n",
       "      <td>9263.524231</td>\n",
       "      <td>9812.461459</td>\n",
       "      <td>10096.351015</td>\n",
       "      <td>9026.422685</td>\n",
       "      <td>8515.330692</td>\n",
       "    </tr>\n",
       "    <tr>\n",
       "      <th>2</th>\n",
       "      <td>1000010</td>\n",
       "      <td>P00288442</td>\n",
       "      <td>F</td>\n",
       "      <td>36-45</td>\n",
       "      <td>1</td>\n",
       "      <td>B</td>\n",
       "      <td>4+</td>\n",
       "      <td>1</td>\n",
       "      <td>5</td>\n",
       "      <td>14.0</td>\n",
       "      <td>16.0</td>\n",
       "      <td>9147.914515</td>\n",
       "      <td>9325.974501</td>\n",
       "      <td>8736.997186</td>\n",
       "      <td>9255.720358</td>\n",
       "      <td>8947.814825</td>\n",
       "      <td>6238.723311</td>\n",
       "      <td>7096.322978</td>\n",
       "      <td>8515.330692</td>\n",
       "    </tr>\n",
       "    <tr>\n",
       "      <th>3</th>\n",
       "      <td>1000010</td>\n",
       "      <td>P00145342</td>\n",
       "      <td>F</td>\n",
       "      <td>36-45</td>\n",
       "      <td>1</td>\n",
       "      <td>B</td>\n",
       "      <td>4+</td>\n",
       "      <td>1</td>\n",
       "      <td>4</td>\n",
       "      <td>9.0</td>\n",
       "      <td>16.0</td>\n",
       "      <td>9147.914515</td>\n",
       "      <td>9325.974501</td>\n",
       "      <td>8736.997186</td>\n",
       "      <td>9255.720358</td>\n",
       "      <td>8947.814825</td>\n",
       "      <td>2328.670263</td>\n",
       "      <td>7290.284681</td>\n",
       "      <td>8515.330692</td>\n",
       "    </tr>\n",
       "    <tr>\n",
       "      <th>4</th>\n",
       "      <td>1000011</td>\n",
       "      <td>P00053842</td>\n",
       "      <td>F</td>\n",
       "      <td>26-35</td>\n",
       "      <td>1</td>\n",
       "      <td>C</td>\n",
       "      <td>1</td>\n",
       "      <td>0</td>\n",
       "      <td>4</td>\n",
       "      <td>5.0</td>\n",
       "      <td>12.0</td>\n",
       "      <td>9713.310932</td>\n",
       "      <td>9248.861222</td>\n",
       "      <td>8736.997186</td>\n",
       "      <td>9263.524231</td>\n",
       "      <td>8947.814825</td>\n",
       "      <td>2328.670263</td>\n",
       "      <td>9026.422685</td>\n",
       "      <td>8676.519935</td>\n",
       "    </tr>\n",
       "  </tbody>\n",
       "</table>\n",
       "</div>"
      ],
      "text/plain": [
       "   User_ID Product_ID Gender    Age  Occupation City_Category  \\\n",
       "0  1000004  P00128942      M  46-50           7             B   \n",
       "1  1000009  P00113442      M  26-35          17             C   \n",
       "2  1000010  P00288442      F  36-45           1             B   \n",
       "3  1000010  P00145342      F  36-45           1             B   \n",
       "4  1000011  P00053842      F  26-35           1             C   \n",
       "\n",
       "  Stay_In_Current_City_Years  Marital_Status  Product_Category_1  \\\n",
       "0                          2               1                   1   \n",
       "1                          0               0                   3   \n",
       "2                         4+               1                   5   \n",
       "3                         4+               1                   4   \n",
       "4                          1               0                   4   \n",
       "\n",
       "   Product_Category_2  Product_Category_3  CityCategory_Purchase  \\\n",
       "0                11.0                16.0            9147.914515   \n",
       "1                 5.0                16.0            9713.310932   \n",
       "2                14.0                16.0            9147.914515   \n",
       "3                 9.0                16.0            9147.914515   \n",
       "4                 5.0                12.0            9713.310932   \n",
       "\n",
       "   Age_Purchase  Gender_Purchase  Marital_Status_Purchase  \\\n",
       "0   9206.229907      9432.064803              9255.720358   \n",
       "1   9248.861222      9432.064803              9263.524231   \n",
       "2   9325.974501      8736.997186              9255.720358   \n",
       "3   9325.974501      8736.997186              9255.720358   \n",
       "4   9248.861222      8736.997186              9263.524231   \n",
       "\n",
       "   Occupation_Purchase  Prod_Cat1_Purchase  Prod_Cat2_Purchase  \\\n",
       "0          9427.342161        13614.015063         8891.664614   \n",
       "1          9812.461459        10096.351015         9026.422685   \n",
       "2          8947.814825         6238.723311         7096.322978   \n",
       "3          8947.814825         2328.670263         7290.284681   \n",
       "4          8947.814825         2328.670263         9026.422685   \n",
       "\n",
       "   Prod_Cat3_Purchase  \n",
       "0         8515.330692  \n",
       "1         8515.330692  \n",
       "2         8515.330692  \n",
       "3         8515.330692  \n",
       "4         8676.519935  "
      ]
     },
     "execution_count": 46,
     "metadata": {},
     "output_type": "execute_result"
    }
   ],
   "source": [
    "test_data.head()"
   ]
  },
  {
   "cell_type": "code",
   "execution_count": 47,
   "metadata": {},
   "outputs": [
    {
     "name": "stdout",
     "output_type": "stream",
     "text": [
      "0.06352543836269894\n",
      "0.021101502398943647\n",
      "0.0596703937250029\n",
      "0.0007638743869223155\n",
      "0.0599250174623507\n",
      "0.7982855907391959\n",
      "0.36273594301255685\n",
      "0.29108250391233936\n"
     ]
    }
   ],
   "source": [
    "print(train['CityCategory_Purchase'].corr(train['Purchase']))\n",
    "print(train['Age_Purchase'].corr(train['Purchase']))\n",
    "print(train['Gender_Purchase'].corr(train['Purchase']))\n",
    "print(train['Marital_Status_Purchase'].corr(train['Purchase']))\n",
    "print(train['Occupation_Purchase'].corr(train['Purchase']))\n",
    "print(train['Prod_Cat1_Purchase'].corr(train['Purchase']))\n",
    "print(train['Prod_Cat2_Purchase'].corr(train['Purchase']))\n",
    "print(train['Prod_Cat3_Purchase'].corr(train['Purchase']))"
   ]
  },
  {
   "cell_type": "markdown",
   "metadata": {},
   "source": [
    "### Product Category 1 - City ,  Age , Gender , Marital Status , Occupation"
   ]
  },
  {
   "cell_type": "code",
   "execution_count": 48,
   "metadata": {},
   "outputs": [],
   "source": [
    "prod1_city = train.groupby(['Product_Category_1','City_Category']).agg({'Purchase':'mean'}).reset_index()\n",
    "prod1_city.columns = ['Product_Category_1','City_Category','Prod1_City_Purchase']\n",
    "train = pd.merge(train,prod1_city,how='left',on=['Product_Category_1','City_Category'])\n",
    "test = pd.merge(test,prod1_city,how='left',on=['Product_Category_1','City_Category'])\n",
    "test_data = pd.merge(test_data,prod1_city,how='left',on=['Product_Category_1','City_Category'])"
   ]
  },
  {
   "cell_type": "code",
   "execution_count": 49,
   "metadata": {},
   "outputs": [],
   "source": [
    "prod1_age = train.groupby(['Product_Category_1','Age']).agg({'Purchase':'mean'}).reset_index()\n",
    "prod1_age.columns = ['Product_Category_1','Age','Prod1_Age_Purchase']\n",
    "train = pd.merge(train,prod1_age,how='left',on=['Product_Category_1','Age'])\n",
    "test = pd.merge(test,prod1_age,how='left',on=['Product_Category_1','Age'])\n",
    "test_data = pd.merge(test_data,prod1_age,how='left',on=['Product_Category_1','Age'])"
   ]
  },
  {
   "cell_type": "code",
   "execution_count": 50,
   "metadata": {},
   "outputs": [],
   "source": [
    "prod1_gender = train.groupby(['Product_Category_1','Gender']).agg({'Purchase':'mean'}).reset_index()\n",
    "prod1_gender.columns = ['Product_Category_1','Gender','Prod1_Gender_Purchase']\n",
    "train = pd.merge(train,prod1_gender,how='left',on=['Product_Category_1','Gender'])\n",
    "test = pd.merge(test,prod1_gender,how='left',on=['Product_Category_1','Gender'])\n",
    "test_data = pd.merge(test_data,prod1_gender,how='left',on=['Product_Category_1','Gender'])"
   ]
  },
  {
   "cell_type": "code",
   "execution_count": 51,
   "metadata": {},
   "outputs": [],
   "source": [
    "prod1_status = train.groupby(['Product_Category_1','Marital_Status']).agg({'Purchase':'mean'}).reset_index()\n",
    "prod1_status.columns = ['Product_Category_1','Marital_Status','Prod1_Marital_Status_Purchase']\n",
    "train = pd.merge(train,prod1_status,how='left',on=['Product_Category_1','Marital_Status'])\n",
    "test = pd.merge(test,prod1_status,how='left',on=['Product_Category_1','Marital_Status'])\n",
    "test_data = pd.merge(test_data,prod1_status,how='left',on=['Product_Category_1','Marital_Status'])"
   ]
  },
  {
   "cell_type": "code",
   "execution_count": 52,
   "metadata": {},
   "outputs": [],
   "source": [
    "prod1_occu = train.groupby(['Product_Category_1','Occupation']).agg({'Purchase':'mean'}).reset_index()\n",
    "prod1_occu.columns = ['Product_Category_1','Occupation','Prod1_Occupation_Purchase']\n",
    "train = pd.merge(train,prod1_occu,how='left',on=['Product_Category_1','Occupation'])\n",
    "test = pd.merge(test,prod1_occu,how='left',on=['Product_Category_1','Occupation'])\n",
    "test_data = pd.merge(test_data,prod1_occu,how='left',on=['Product_Category_1','Occupation'])"
   ]
  },
  {
   "cell_type": "code",
   "execution_count": 53,
   "metadata": {},
   "outputs": [
    {
     "name": "stdout",
     "output_type": "stream",
     "text": [
      "0.8003651202955214\n",
      "0.7991722361295203\n",
      "0.7983735473892694\n",
      "0.7983231856926124\n",
      "0.799486694593129\n"
     ]
    }
   ],
   "source": [
    "print(train['Prod1_City_Purchase'].corr(train['Purchase']))\n",
    "print(train['Prod1_Age_Purchase'].corr(train['Purchase']))\n",
    "print(train['Prod1_Gender_Purchase'].corr(train['Purchase']))\n",
    "print(train['Prod1_Marital_Status_Purchase'].corr(train['Purchase']))\n",
    "print(train['Prod1_Occupation_Purchase'].corr(train['Purchase']))"
   ]
  },
  {
   "cell_type": "markdown",
   "metadata": {},
   "source": [
    "### Product Category 1 , City - Age,Gender,Occupation,Marital Status , Stay in City"
   ]
  },
  {
   "cell_type": "code",
   "execution_count": 54,
   "metadata": {},
   "outputs": [],
   "source": [
    "prod1_city_age = train.groupby(['Product_Category_1','City_Category','Age']).agg({'Purchase':'mean'}).reset_index()\n",
    "prod1_city_age.columns = ['Product_Category_1','City_Category','Age','Prod1_City_Age_Purchase']\n",
    "train = pd.merge(train,prod1_city_age,how='left',on=['Product_Category_1','City_Category','Age'])\n",
    "test = pd.merge(test,prod1_city_age,how='left',on=['Product_Category_1','City_Category','Age'])\n",
    "test_data = pd.merge(test_data,prod1_city_age,how='left',on=['Product_Category_1','City_Category','Age'])"
   ]
  },
  {
   "cell_type": "code",
   "execution_count": 55,
   "metadata": {},
   "outputs": [],
   "source": [
    "prod1_city_gender = train.groupby(['Product_Category_1','City_Category','Gender']).agg({'Purchase':'mean'}).reset_index()\n",
    "prod1_city_gender.columns = ['Product_Category_1','City_Category','Gender','Prod1_City_Gender_Purchase']\n",
    "train = pd.merge(train,prod1_city_gender,how='left',on=['Product_Category_1','City_Category','Gender'])\n",
    "test = pd.merge(test,prod1_city_gender,how='left',on=['Product_Category_1','City_Category','Gender'])\n",
    "test_data = pd.merge(test_data,prod1_city_gender,how='left',on=['Product_Category_1','City_Category','Gender'])"
   ]
  },
  {
   "cell_type": "code",
   "execution_count": 56,
   "metadata": {},
   "outputs": [],
   "source": [
    "prod1_city_occ = train.groupby(['Product_Category_1','City_Category','Occupation']).agg({'Purchase':'mean'}).reset_index()\n",
    "prod1_city_occ.columns = ['Product_Category_1','City_Category','Occupation','Prod1_City_Occupation_Purchase']\n",
    "train = pd.merge(train,prod1_city_occ,how='left',on=['Product_Category_1','City_Category','Occupation'])\n",
    "test = pd.merge(test,prod1_city_occ,how='left',on=['Product_Category_1','City_Category','Occupation'])\n",
    "test_data = pd.merge(test_data,prod1_city_occ,how='left',on=['Product_Category_1','City_Category','Occupation'])"
   ]
  },
  {
   "cell_type": "code",
   "execution_count": 57,
   "metadata": {},
   "outputs": [],
   "source": [
    "prod1_city_status = train.groupby(['Product_Category_1','City_Category','Marital_Status']).agg({'Purchase':'mean'}).reset_index()\n",
    "prod1_city_status.columns = ['Product_Category_1','City_Category','Marital_Status','Prod1_City_Marital_Purchase']\n",
    "train = pd.merge(train,prod1_city_status,how='left',on=['Product_Category_1','City_Category','Marital_Status'])\n",
    "test = pd.merge(test,prod1_city_status,how='left',on=['Product_Category_1','City_Category','Marital_Status'])\n",
    "test_data = pd.merge(test_data,prod1_city_status,how='left',on=['Product_Category_1','City_Category','Marital_Status'])"
   ]
  },
  {
   "cell_type": "code",
   "execution_count": 58,
   "metadata": {},
   "outputs": [],
   "source": [
    "prod1_city_stay = train.groupby(['Product_Category_1','City_Category','Stay_In_Current_City_Years']).agg({'Purchase':'mean'}).reset_index()\n",
    "prod1_city_stay.columns = ['Product_Category_1','City_Category','Stay_In_Current_City_Years','Prod1_City_Stay_Purchase']\n",
    "train = pd.merge(train,prod1_city_stay,how='left',on=['Product_Category_1','City_Category','Stay_In_Current_City_Years'])\n",
    "test = pd.merge(test,prod1_city_stay,how='left',on=['Product_Category_1','City_Category','Stay_In_Current_City_Years'])\n",
    "test_data = pd.merge(test_data,prod1_city_stay,how='left',on=['Product_Category_1','City_Category','Stay_In_Current_City_Years'])"
   ]
  },
  {
   "cell_type": "code",
   "execution_count": 59,
   "metadata": {},
   "outputs": [
    {
     "name": "stdout",
     "output_type": "stream",
     "text": [
      "0.8016671499347509\n",
      "0.8005600157409004\n",
      "0.8023906266999401\n",
      "0.8004589329326425\n",
      "0.8007136190396841\n"
     ]
    }
   ],
   "source": [
    "print(train['Prod1_City_Age_Purchase'].corr(train['Purchase']))\n",
    "print(train['Prod1_City_Gender_Purchase'].corr(train['Purchase']))\n",
    "print(train['Prod1_City_Occupation_Purchase'].corr(train['Purchase']))\n",
    "print(train['Prod1_City_Marital_Purchase'].corr(train['Purchase']))\n",
    "print(train['Prod1_City_Stay_Purchase'].corr(train['Purchase']))"
   ]
  },
  {
   "cell_type": "markdown",
   "metadata": {},
   "source": [
    "### Product Id - Age,City,Marital Status,Gender , Occupation , Stay in CIty"
   ]
  },
  {
   "cell_type": "code",
   "execution_count": 60,
   "metadata": {},
   "outputs": [],
   "source": [
    "pid_age = train.groupby(['Product_ID','Age']).agg({'Purchase':'mean'}).reset_index()\n",
    "pid_age.columns = ['Product_ID','Age','PId_Age_Purchase']\n",
    "train = pd.merge(train,pid_age,how='left',on=['Product_ID','Age'])\n",
    "test = pd.merge(test,pid_age,how='left',on=['Product_ID','Age'])\n",
    "test_data = pd.merge(test_data,pid_age,how='left',on=['Product_ID','Age'])"
   ]
  },
  {
   "cell_type": "code",
   "execution_count": 61,
   "metadata": {},
   "outputs": [],
   "source": [
    "pid_gender = train.groupby(['Product_ID','Gender']).agg({'Purchase':'mean'}).reset_index()\n",
    "pid_gender.columns = ['Product_ID','Gender','PId_Gender_Purchase']\n",
    "train = pd.merge(train,pid_gender,how='left',on=['Product_ID','Gender'])\n",
    "test = pd.merge(test,pid_gender,how='left',on=['Product_ID','Gender'])\n",
    "test_data = pd.merge(test_data,pid_gender,how='left',on=['Product_ID','Gender'])"
   ]
  },
  {
   "cell_type": "code",
   "execution_count": 62,
   "metadata": {},
   "outputs": [],
   "source": [
    "pid_city = train.groupby(['Product_ID','City_Category']).agg({'Purchase':'mean'}).reset_index()\n",
    "pid_city.columns = ['Product_ID','City_Category','PId_City_Purchase']\n",
    "train = pd.merge(train,pid_city,how='left',on=['Product_ID','City_Category'])\n",
    "test = pd.merge(test,pid_city,how='left',on=['Product_ID','City_Category'])\n",
    "test_data = pd.merge(test_data,pid_city,how='left',on=['Product_ID','City_Category'])"
   ]
  },
  {
   "cell_type": "code",
   "execution_count": 63,
   "metadata": {},
   "outputs": [],
   "source": [
    "pid_status = train.groupby(['Product_ID','Marital_Status']).agg({'Purchase':'mean'}).reset_index()\n",
    "pid_status.columns = ['Product_ID','Marital_Status','PId_Marital_Purchase']\n",
    "train = pd.merge(train,pid_status,how='left',on=['Product_ID','Marital_Status'])\n",
    "test = pd.merge(test,pid_status,how='left',on=['Product_ID','Marital_Status'])\n",
    "test_data = pd.merge(test_data,pid_status,how='left',on=['Product_ID','Marital_Status'])"
   ]
  },
  {
   "cell_type": "code",
   "execution_count": 64,
   "metadata": {},
   "outputs": [],
   "source": [
    "pid_occ = train.groupby(['Product_ID','Occupation']).agg({'Purchase':'mean'}).reset_index()\n",
    "pid_occ.columns = ['Product_ID','Occupation','PId_Occupation_Purchase']\n",
    "train = pd.merge(train,pid_occ,how='left',on=['Product_ID','Occupation'])\n",
    "test = pd.merge(test,pid_occ,how='left',on=['Product_ID','Occupation'])\n",
    "test_data = pd.merge(test_data,pid_occ,how='left',on=['Product_ID','Occupation'])"
   ]
  },
  {
   "cell_type": "code",
   "execution_count": 65,
   "metadata": {},
   "outputs": [],
   "source": [
    "pid_stay = train.groupby(['Product_ID','Stay_In_Current_City_Years']).agg({'Purchase':'mean'}).reset_index()\n",
    "pid_stay.columns = ['Product_ID','Stay_In_Current_City_Years','PId_Stay_Purchase']\n",
    "train = pd.merge(train,pid_stay,how='left',on=['Product_ID','Stay_In_Current_City_Years'])\n",
    "test = pd.merge(test,pid_stay,how='left',on=['Product_ID','Stay_In_Current_City_Years'])\n",
    "test_data = pd.merge(test_data,pid_stay,how='left',on=['Product_ID','Stay_In_Current_City_Years'])"
   ]
  },
  {
   "cell_type": "code",
   "execution_count": 66,
   "metadata": {},
   "outputs": [],
   "source": [
    "pid_prodcat1 = train.groupby(['Product_ID','Product_Category_1']).agg({'Purchase':'mean'}).reset_index()\n",
    "pid_prodcat1.columns = ['Product_ID','Product_Category_1','PId_ProdCat1_Purchase']\n",
    "train = pd.merge(train,pid_prodcat1,how='left',on=['Product_ID','Product_Category_1'])\n",
    "test = pd.merge(test,pid_prodcat1,how='left',on=['Product_ID','Product_Category_1'])\n",
    "test_data = pd.merge(test_data,pid_prodcat1,how='left',on=['Product_ID','Product_Category_1'])"
   ]
  },
  {
   "cell_type": "code",
   "execution_count": 67,
   "metadata": {},
   "outputs": [
    {
     "name": "stdout",
     "output_type": "stream",
     "text": [
      "0.8581111729671727\n",
      "0.8522285134763224\n",
      "0.8537392558781464\n",
      "0.8514365893496608\n",
      "0.8682479511355222\n",
      "0.8547080260802318\n",
      "0.85017507672892\n"
     ]
    }
   ],
   "source": [
    "print(train['PId_Age_Purchase'].corr(train['Purchase']))\n",
    "print(train['PId_Gender_Purchase'].corr(train['Purchase']))\n",
    "print(train['PId_City_Purchase'].corr(train['Purchase']))\n",
    "print(train['PId_Marital_Purchase'].corr(train['Purchase']))\n",
    "print(train['PId_Occupation_Purchase'].corr(train['Purchase']))\n",
    "print(train['PId_Stay_Purchase'].corr(train['Purchase']))\n",
    "print(train['PId_ProdCat1_Purchase'].corr(train['Purchase']))"
   ]
  },
  {
   "cell_type": "code",
   "execution_count": 68,
   "metadata": {},
   "outputs": [
    {
     "data": {
      "text/plain": [
       "Index(['User_ID', 'Product_ID', 'Gender', 'Age', 'Occupation', 'City_Category',\n",
       "       'Stay_In_Current_City_Years', 'Marital_Status', 'Product_Category_1',\n",
       "       'Product_Category_2', 'Product_Category_3', 'Purchase',\n",
       "       'CityCategory_Purchase', 'Age_Purchase', 'Gender_Purchase',\n",
       "       'Marital_Status_Purchase', 'Occupation_Purchase', 'Prod_Cat1_Purchase',\n",
       "       'Prod_Cat2_Purchase', 'Prod_Cat3_Purchase', 'Prod1_City_Purchase',\n",
       "       'Prod1_Age_Purchase', 'Prod1_Gender_Purchase',\n",
       "       'Prod1_Marital_Status_Purchase', 'Prod1_Occupation_Purchase',\n",
       "       'Prod1_City_Age_Purchase', 'Prod1_City_Gender_Purchase',\n",
       "       'Prod1_City_Occupation_Purchase', 'Prod1_City_Marital_Purchase',\n",
       "       'Prod1_City_Stay_Purchase', 'PId_Age_Purchase', 'PId_Gender_Purchase',\n",
       "       'PId_City_Purchase', 'PId_Marital_Purchase', 'PId_Occupation_Purchase',\n",
       "       'PId_Stay_Purchase', 'PId_ProdCat1_Purchase'],\n",
       "      dtype='object')"
      ]
     },
     "execution_count": 68,
     "metadata": {},
     "output_type": "execute_result"
    }
   ],
   "source": [
    "train.columns"
   ]
  },
  {
   "cell_type": "code",
   "execution_count": null,
   "metadata": {},
   "outputs": [],
   "source": []
  },
  {
   "cell_type": "markdown",
   "metadata": {},
   "source": [
    "### Dropping the id columns of train , test and creating dummies of train , test data"
   ]
  },
  {
   "cell_type": "code",
   "execution_count": 69,
   "metadata": {},
   "outputs": [],
   "source": [
    "train.drop(['User_ID', 'Product_ID'], axis=1, inplace=True)\n",
    "#train = pd.get_dummies(train)"
   ]
  },
  {
   "cell_type": "code",
   "execution_count": 70,
   "metadata": {},
   "outputs": [],
   "source": [
    "test.drop(['User_ID', 'Product_ID'], axis=1, inplace=True)\n",
    "#test = pd.get_dummies(test)"
   ]
  },
  {
   "cell_type": "code",
   "execution_count": 71,
   "metadata": {},
   "outputs": [],
   "source": [
    "test_data.drop(['User_ID', 'Product_ID'], axis=1, inplace=True)\n",
    "#test_data = pd.get_dummies(test_data)"
   ]
  },
  {
   "cell_type": "code",
   "execution_count": 72,
   "metadata": {},
   "outputs": [
    {
     "name": "stdout",
     "output_type": "stream",
     "text": [
      "(440054, 35) (110014, 35) (233599, 34)\n"
     ]
    }
   ],
   "source": [
    "print(train.shape,test.shape,test_data.shape)"
   ]
  },
  {
   "cell_type": "markdown",
   "metadata": {},
   "source": [
    "## Label Encoding of Categorical Columns"
   ]
  },
  {
   "cell_type": "code",
   "execution_count": 73,
   "metadata": {},
   "outputs": [],
   "source": [
    "from sklearn.preprocessing import LabelEncoder\n",
    "labelencoder = LabelEncoder()\n",
    "\n",
    "train['Gender'] = labelencoder.fit_transform(train['Gender'])\n",
    "train['Age'] = labelencoder.fit_transform(train['Age'])\n",
    "train['City_Category'] = labelencoder.fit_transform(train['City_Category'])\n",
    "train['Stay_In_Current_City_Years'] = labelencoder.fit_transform(train['Stay_In_Current_City_Years'])\n",
    "\n",
    "\n",
    "test['Age'] = labelencoder.fit_transform(test['Age'])\n",
    "test['City_Category'] = labelencoder.fit_transform(test['City_Category'])\n",
    "test['Stay_In_Current_City_Years'] = labelencoder.fit_transform(test['Stay_In_Current_City_Years'])\n",
    "test['Gender'] = labelencoder.fit_transform(test['Gender'])"
   ]
  },
  {
   "cell_type": "code",
   "execution_count": 76,
   "metadata": {},
   "outputs": [
    {
     "data": {
      "image/png": "[encoded data removed]",
      "text/plain": [
       "<Figure size 1440x1440 with 2 Axes>"
      ]
     },
     "metadata": {
      "needs_background": "light"
     },
     "output_type": "display_data"
    }
   ],
   "source": [
    "from matplotlib import pyplot as plt\n",
    "import seaborn as sns\n",
    "corrmat = train.corr()\n",
    "top_corr_features = corrmat.index\n",
    "plt.figure(figsize=(20,20))\n",
    "#plot heat map\n",
    "g=sns.heatmap(train[top_corr_features].corr(),annot=True,cmap=\"RdYlGn\")"
   ]
  },
  {
   "cell_type": "markdown",
   "metadata": {},
   "source": [
    "### Creating x_train , y_train and x_test , y_test from train data and test data\n"
   ]
  },
  {
   "cell_type": "code",
   "execution_count": 77,
   "metadata": {},
   "outputs": [
    {
     "name": "stdout",
     "output_type": "stream",
     "text": [
      "(440054, 34) (440054,) (110014, 34) (110014,)\n"
     ]
    }
   ],
   "source": [
    "x_train = train.drop('Purchase', axis=1)\n",
    "y_train = train['Purchase']\n",
    "\n",
    "x_test = test.drop('Purchase', axis = 1)\n",
    "y_test = test['Purchase']\n",
    "\n",
    "print(x_train.shape,y_train.shape,x_test.shape,y_test.shape)"
   ]
  },
  {
   "cell_type": "code",
   "execution_count": 79,
   "metadata": {},
   "outputs": [
    {
     "data": {
      "text/plain": [
       "Index(['Gender', 'Age', 'Occupation', 'City_Category',\n",
       "       'Stay_In_Current_City_Years', 'Marital_Status', 'Product_Category_1',\n",
       "       'Product_Category_2', 'Product_Category_3', 'CityCategory_Purchase',\n",
       "       'Age_Purchase', 'Gender_Purchase', 'Marital_Status_Purchase',\n",
       "       'Occupation_Purchase', 'Prod_Cat1_Purchase', 'Prod_Cat2_Purchase',\n",
       "       'Prod_Cat3_Purchase', 'Prod1_City_Purchase', 'Prod1_Age_Purchase',\n",
       "       'Prod1_Gender_Purchase', 'Prod1_Marital_Status_Purchase',\n",
       "       'Prod1_Occupation_Purchase', 'Prod1_City_Age_Purchase',\n",
       "       'Prod1_City_Gender_Purchase', 'Prod1_City_Occupation_Purchase',\n",
       "       'Prod1_City_Marital_Purchase', 'Prod1_City_Stay_Purchase',\n",
       "       'PId_Age_Purchase', 'PId_Gender_Purchase', 'PId_City_Purchase',\n",
       "       'PId_Marital_Purchase', 'PId_Occupation_Purchase', 'PId_Stay_Purchase',\n",
       "       'PId_ProdCat1_Purchase'],\n",
       "      dtype='object')"
      ]
     },
     "execution_count": 79,
     "metadata": {},
     "output_type": "execute_result"
    }
   ],
   "source": [
    "x_train.columns"
   ]
  },
  {
   "cell_type": "code",
   "execution_count": 80,
   "metadata": {},
   "outputs": [],
   "source": [
    "features = ['Prod_Cat1_Purchase','Prod1_City_Purchase', 'Prod1_Age_Purchase',\n",
    "       'Prod1_Gender_Purchase', 'Prod1_Marital_Status_Purchase',\n",
    "       'Prod1_Occupation_Purchase', 'Prod1_City_Age_Purchase',\n",
    "       'Prod1_City_Gender_Purchase', 'Prod1_City_Occupation_Purchase',\n",
    "       'Prod1_City_Marital_Purchase', 'Prod1_City_Stay_Purchase',\n",
    "       'PId_Age_Purchase', 'PId_Gender_Purchase', 'PId_City_Purchase',\n",
    "       'PId_Marital_Purchase', 'PId_Occupation_Purchase', 'PId_Stay_Purchase',\n",
    "       'PId_ProdCat1_Purchase']"
   ]
  },
  {
   "cell_type": "code",
   "execution_count": 81,
   "metadata": {},
   "outputs": [],
   "source": [
    "x_train = train[features]\n",
    "x_test = test[features]"
   ]
  },
  {
   "cell_type": "code",
   "execution_count": 82,
   "metadata": {},
   "outputs": [
    {
     "data": {
      "text/plain": [
       "Prod_Cat1_Purchase                0\n",
       "Prod1_City_Purchase               0\n",
       "Prod1_Age_Purchase                0\n",
       "Prod1_Gender_Purchase             0\n",
       "Prod1_Marital_Status_Purchase     0\n",
       "Prod1_Occupation_Purchase         0\n",
       "Prod1_City_Age_Purchase           0\n",
       "Prod1_City_Gender_Purchase        0\n",
       "Prod1_City_Occupation_Purchase    0\n",
       "Prod1_City_Marital_Purchase       0\n",
       "Prod1_City_Stay_Purchase          0\n",
       "PId_Age_Purchase                  0\n",
       "PId_Gender_Purchase               0\n",
       "PId_City_Purchase                 0\n",
       "PId_Marital_Purchase              0\n",
       "PId_Occupation_Purchase           0\n",
       "PId_Stay_Purchase                 0\n",
       "PId_ProdCat1_Purchase             0\n",
       "dtype: int64"
      ]
     },
     "execution_count": 82,
     "metadata": {},
     "output_type": "execute_result"
    }
   ],
   "source": [
    "x_train.isna().sum()"
   ]
  },
  {
   "cell_type": "code",
   "execution_count": 83,
   "metadata": {},
   "outputs": [
    {
     "data": {
      "text/plain": [
       "Prod_Cat1_Purchase                   0\n",
       "Prod1_City_Purchase                  0\n",
       "Prod1_Age_Purchase                   0\n",
       "Prod1_Gender_Purchase                0\n",
       "Prod1_Marital_Status_Purchase        0\n",
       "Prod1_Occupation_Purchase            1\n",
       "Prod1_City_Age_Purchase              0\n",
       "Prod1_City_Gender_Purchase           0\n",
       "Prod1_City_Occupation_Purchase       5\n",
       "Prod1_City_Marital_Purchase          0\n",
       "Prod1_City_Stay_Purchase             0\n",
       "PId_Age_Purchase                   768\n",
       "PId_Gender_Purchase                116\n",
       "PId_City_Purchase                  197\n",
       "PId_Marital_Purchase                97\n",
       "PId_Occupation_Purchase           2891\n",
       "PId_Stay_Purchase                  354\n",
       "PId_ProdCat1_Purchase               48\n",
       "dtype: int64"
      ]
     },
     "execution_count": 83,
     "metadata": {},
     "output_type": "execute_result"
    }
   ],
   "source": [
    "x_test.isna().sum()"
   ]
  },
  {
   "cell_type": "code",
   "execution_count": 84,
   "metadata": {},
   "outputs": [
    {
     "data": {
      "text/html": [
       "<div>\n",
       "<style scoped>\n",
       "    .dataframe tbody tr th:only-of-type {\n",
       "        vertical-align: middle;\n",
       "    }\n",
       "\n",
       "    .dataframe tbody tr th {\n",
       "        vertical-align: top;\n",
       "    }\n",
       "\n",
       "    .dataframe thead th {\n",
       "        text-align: right;\n",
       "    }\n",
       "</style>\n",
       "<table border=\"1\" class=\"dataframe\">\n",
       "  <thead>\n",
       "    <tr style=\"text-align: right;\">\n",
       "      <th></th>\n",
       "      <th>Prod_Cat1_Purchase</th>\n",
       "      <th>Prod1_City_Purchase</th>\n",
       "      <th>Prod1_Age_Purchase</th>\n",
       "      <th>Prod1_Gender_Purchase</th>\n",
       "      <th>Prod1_Marital_Status_Purchase</th>\n",
       "      <th>Prod1_Occupation_Purchase</th>\n",
       "      <th>Prod1_City_Age_Purchase</th>\n",
       "      <th>Prod1_City_Gender_Purchase</th>\n",
       "      <th>Prod1_City_Occupation_Purchase</th>\n",
       "      <th>Prod1_City_Marital_Purchase</th>\n",
       "      <th>Prod1_City_Stay_Purchase</th>\n",
       "      <th>PId_Age_Purchase</th>\n",
       "      <th>PId_Gender_Purchase</th>\n",
       "      <th>PId_City_Purchase</th>\n",
       "      <th>PId_Marital_Purchase</th>\n",
       "      <th>PId_Occupation_Purchase</th>\n",
       "      <th>PId_Stay_Purchase</th>\n",
       "      <th>PId_ProdCat1_Purchase</th>\n",
       "    </tr>\n",
       "  </thead>\n",
       "  <tbody>\n",
       "    <tr>\n",
       "      <th>count</th>\n",
       "      <td>110014.000000</td>\n",
       "      <td>110014.000000</td>\n",
       "      <td>110014.000000</td>\n",
       "      <td>110014.000000</td>\n",
       "      <td>110014.000000</td>\n",
       "      <td>110013.000000</td>\n",
       "      <td>110014.000000</td>\n",
       "      <td>110014.000000</td>\n",
       "      <td>110009.000000</td>\n",
       "      <td>110014.000000</td>\n",
       "      <td>110014.000000</td>\n",
       "      <td>109246.000000</td>\n",
       "      <td>109898.000000</td>\n",
       "      <td>109817.000000</td>\n",
       "      <td>109917.000000</td>\n",
       "      <td>107123.000000</td>\n",
       "      <td>109660.000000</td>\n",
       "      <td>109966.000000</td>\n",
       "    </tr>\n",
       "    <tr>\n",
       "      <th>mean</th>\n",
       "      <td>9286.645502</td>\n",
       "      <td>9286.564579</td>\n",
       "      <td>9286.983874</td>\n",
       "      <td>9286.638235</td>\n",
       "      <td>9286.747204</td>\n",
       "      <td>9286.567349</td>\n",
       "      <td>9285.396567</td>\n",
       "      <td>9286.981243</td>\n",
       "      <td>9286.058578</td>\n",
       "      <td>9286.509274</td>\n",
       "      <td>9286.790596</td>\n",
       "      <td>9297.915217</td>\n",
       "      <td>9288.270178</td>\n",
       "      <td>9287.935855</td>\n",
       "      <td>9287.502739</td>\n",
       "      <td>9331.823481</td>\n",
       "      <td>9289.695828</td>\n",
       "      <td>9285.629538</td>\n",
       "    </tr>\n",
       "    <tr>\n",
       "      <th>std</th>\n",
       "      <td>4010.828694</td>\n",
       "      <td>4021.319100</td>\n",
       "      <td>4015.725050</td>\n",
       "      <td>4011.322066</td>\n",
       "      <td>4011.066471</td>\n",
       "      <td>4016.587633</td>\n",
       "      <td>4026.271438</td>\n",
       "      <td>4022.953676</td>\n",
       "      <td>4030.588097</td>\n",
       "      <td>4021.433077</td>\n",
       "      <td>4022.990283</td>\n",
       "      <td>4313.278685</td>\n",
       "      <td>4281.518844</td>\n",
       "      <td>4287.529332</td>\n",
       "      <td>4277.319717</td>\n",
       "      <td>4372.874245</td>\n",
       "      <td>4295.469778</td>\n",
       "      <td>4270.076452</td>\n",
       "    </tr>\n",
       "    <tr>\n",
       "      <th>min</th>\n",
       "      <td>37.205047</td>\n",
       "      <td>36.627507</td>\n",
       "      <td>36.041284</td>\n",
       "      <td>36.847755</td>\n",
       "      <td>37.179245</td>\n",
       "      <td>31.000000</td>\n",
       "      <td>33.133333</td>\n",
       "      <td>36.586873</td>\n",
       "      <td>28.250000</td>\n",
       "      <td>34.620690</td>\n",
       "      <td>33.310345</td>\n",
       "      <td>34.615385</td>\n",
       "      <td>36.626609</td>\n",
       "      <td>35.747573</td>\n",
       "      <td>36.849315</td>\n",
       "      <td>24.000000</td>\n",
       "      <td>35.675676</td>\n",
       "      <td>36.971875</td>\n",
       "    </tr>\n",
       "    <tr>\n",
       "      <th>25%</th>\n",
       "      <td>6238.723311</td>\n",
       "      <td>6172.717595</td>\n",
       "      <td>6179.356401</td>\n",
       "      <td>6212.629096</td>\n",
       "      <td>6220.735794</td>\n",
       "      <td>6240.950193</td>\n",
       "      <td>6168.477096</td>\n",
       "      <td>6188.548106</td>\n",
       "      <td>6249.193933</td>\n",
       "      <td>6181.074022</td>\n",
       "      <td>6201.012761</td>\n",
       "      <td>6340.435484</td>\n",
       "      <td>6360.161616</td>\n",
       "      <td>6357.435115</td>\n",
       "      <td>6360.360465</td>\n",
       "      <td>6340.705882</td>\n",
       "      <td>6359.346154</td>\n",
       "      <td>6365.284526</td>\n",
       "    </tr>\n",
       "    <tr>\n",
       "      <th>50%</th>\n",
       "      <td>7497.917238</td>\n",
       "      <td>7454.964504</td>\n",
       "      <td>7523.200247</td>\n",
       "      <td>7497.400694</td>\n",
       "      <td>7524.602931</td>\n",
       "      <td>7498.231388</td>\n",
       "      <td>7567.988879</td>\n",
       "      <td>7468.919978</td>\n",
       "      <td>7615.492688</td>\n",
       "      <td>7478.459380</td>\n",
       "      <td>7489.973973</td>\n",
       "      <td>7873.913043</td>\n",
       "      <td>7816.457143</td>\n",
       "      <td>7842.305556</td>\n",
       "      <td>7805.607843</td>\n",
       "      <td>7944.755556</td>\n",
       "      <td>7860.944444</td>\n",
       "      <td>7819.235443</td>\n",
       "    </tr>\n",
       "    <tr>\n",
       "      <th>75%</th>\n",
       "      <td>13614.015063</td>\n",
       "      <td>13447.431162</td>\n",
       "      <td>13467.752360</td>\n",
       "      <td>13613.624132</td>\n",
       "      <td>13597.812122</td>\n",
       "      <td>13484.209390</td>\n",
       "      <td>13317.233518</td>\n",
       "      <td>13482.712768</td>\n",
       "      <td>13233.014215</td>\n",
       "      <td>13431.778586</td>\n",
       "      <td>13440.281797</td>\n",
       "      <td>13035.716578</td>\n",
       "      <td>12999.553114</td>\n",
       "      <td>13022.723684</td>\n",
       "      <td>13026.259259</td>\n",
       "      <td>13011.742857</td>\n",
       "      <td>12996.844262</td>\n",
       "      <td>13008.214876</td>\n",
       "    </tr>\n",
       "    <tr>\n",
       "      <th>max</th>\n",
       "      <td>19706.046557</td>\n",
       "      <td>19860.101523</td>\n",
       "      <td>20669.604265</td>\n",
       "      <td>19709.370726</td>\n",
       "      <td>19762.653949</td>\n",
       "      <td>20838.750000</td>\n",
       "      <td>21563.508197</td>\n",
       "      <td>19952.114865</td>\n",
       "      <td>21997.000000</td>\n",
       "      <td>19934.670165</td>\n",
       "      <td>20411.643750</td>\n",
       "      <td>23843.000000</td>\n",
       "      <td>21677.645161</td>\n",
       "      <td>21964.940299</td>\n",
       "      <td>21507.491935</td>\n",
       "      <td>23702.500000</td>\n",
       "      <td>23117.000000</td>\n",
       "      <td>21361.515982</td>\n",
       "    </tr>\n",
       "  </tbody>\n",
       "</table>\n",
       "</div>"
      ],
      "text/plain": [
       "       Prod_Cat1_Purchase  Prod1_City_Purchase  Prod1_Age_Purchase  \\\n",
       "count       110014.000000        110014.000000       110014.000000   \n",
       "mean          9286.645502          9286.564579         9286.983874   \n",
       "std           4010.828694          4021.319100         4015.725050   \n",
       "min             37.205047            36.627507           36.041284   \n",
       "25%           6238.723311          6172.717595         6179.356401   \n",
       "50%           7497.917238          7454.964504         7523.200247   \n",
       "75%          13614.015063         13447.431162        13467.752360   \n",
       "max          19706.046557         19860.101523        20669.604265   \n",
       "\n",
       "       Prod1_Gender_Purchase  Prod1_Marital_Status_Purchase  \\\n",
       "count          110014.000000                  110014.000000   \n",
       "mean             9286.638235                    9286.747204   \n",
       "std              4011.322066                    4011.066471   \n",
       "min                36.847755                      37.179245   \n",
       "25%              6212.629096                    6220.735794   \n",
       "50%              7497.400694                    7524.602931   \n",
       "75%             13613.624132                   13597.812122   \n",
       "max             19709.370726                   19762.653949   \n",
       "\n",
       "       Prod1_Occupation_Purchase  Prod1_City_Age_Purchase  \\\n",
       "count              110013.000000            110014.000000   \n",
       "mean                 9286.567349              9285.396567   \n",
       "std                  4016.587633              4026.271438   \n",
       "min                    31.000000                33.133333   \n",
       "25%                  6240.950193              6168.477096   \n",
       "50%                  7498.231388              7567.988879   \n",
       "75%                 13484.209390             13317.233518   \n",
       "max                 20838.750000             21563.508197   \n",
       "\n",
       "       Prod1_City_Gender_Purchase  Prod1_City_Occupation_Purchase  \\\n",
       "count               110014.000000                   110009.000000   \n",
       "mean                  9286.981243                     9286.058578   \n",
       "std                   4022.953676                     4030.588097   \n",
       "min                     36.586873                       28.250000   \n",
       "25%                   6188.548106                     6249.193933   \n",
       "50%                   7468.919978                     7615.492688   \n",
       "75%                  13482.712768                    13233.014215   \n",
       "max                  19952.114865                    21997.000000   \n",
       "\n",
       "       Prod1_City_Marital_Purchase  Prod1_City_Stay_Purchase  \\\n",
       "count                110014.000000             110014.000000   \n",
       "mean                   9286.509274               9286.790596   \n",
       "std                    4021.433077               4022.990283   \n",
       "min                      34.620690                 33.310345   \n",
       "25%                    6181.074022               6201.012761   \n",
       "50%                    7478.459380               7489.973973   \n",
       "75%                   13431.778586              13440.281797   \n",
       "max                   19934.670165              20411.643750   \n",
       "\n",
       "       PId_Age_Purchase  PId_Gender_Purchase  PId_City_Purchase  \\\n",
       "count     109246.000000        109898.000000      109817.000000   \n",
       "mean        9297.915217          9288.270178        9287.935855   \n",
       "std         4313.278685          4281.518844        4287.529332   \n",
       "min           34.615385            36.626609          35.747573   \n",
       "25%         6340.435484          6360.161616        6357.435115   \n",
       "50%         7873.913043          7816.457143        7842.305556   \n",
       "75%        13035.716578         12999.553114       13022.723684   \n",
       "max        23843.000000         21677.645161       21964.940299   \n",
       "\n",
       "       PId_Marital_Purchase  PId_Occupation_Purchase  PId_Stay_Purchase  \\\n",
       "count         109917.000000            107123.000000      109660.000000   \n",
       "mean            9287.502739              9331.823481        9289.695828   \n",
       "std             4277.319717              4372.874245        4295.469778   \n",
       "min               36.849315                24.000000          35.675676   \n",
       "25%             6360.360465              6340.705882        6359.346154   \n",
       "50%             7805.607843              7944.755556        7860.944444   \n",
       "75%            13026.259259             13011.742857       12996.844262   \n",
       "max            21507.491935             23702.500000       23117.000000   \n",
       "\n",
       "       PId_ProdCat1_Purchase  \n",
       "count          109966.000000  \n",
       "mean             9285.629538  \n",
       "std              4270.076452  \n",
       "min                36.971875  \n",
       "25%              6365.284526  \n",
       "50%              7819.235443  \n",
       "75%             13008.214876  \n",
       "max             21361.515982  "
      ]
     },
     "execution_count": 84,
     "metadata": {},
     "output_type": "execute_result"
    }
   ],
   "source": [
    "x_test.describe()"
   ]
  },
  {
   "cell_type": "code",
   "execution_count": 85,
   "metadata": {},
   "outputs": [
    {
     "name": "stderr",
     "output_type": "stream",
     "text": [
      "C:\\ProgramData\\Anaconda3\\lib\\site-packages\\pandas\\core\\frame.py:4034: SettingWithCopyWarning: \n",
      "A value is trying to be set on a copy of a slice from a DataFrame\n",
      "\n",
      "See the caveats in the documentation: http://pandas.pydata.org/pandas-docs/stable/indexing.html#indexing-view-versus-copy\n",
      "  downcast=downcast, **kwargs)\n"
     ]
    }
   ],
   "source": [
    "x_test.fillna(-1,inplace=True)"
   ]
  },
  {
   "cell_type": "code",
   "execution_count": 86,
   "metadata": {},
   "outputs": [
    {
     "data": {
      "text/plain": [
       "Prod_Cat1_Purchase                0\n",
       "Prod1_City_Purchase               0\n",
       "Prod1_Age_Purchase                0\n",
       "Prod1_Gender_Purchase             0\n",
       "Prod1_Marital_Status_Purchase     0\n",
       "Prod1_Occupation_Purchase         0\n",
       "Prod1_City_Age_Purchase           0\n",
       "Prod1_City_Gender_Purchase        0\n",
       "Prod1_City_Occupation_Purchase    0\n",
       "Prod1_City_Marital_Purchase       0\n",
       "Prod1_City_Stay_Purchase          0\n",
       "PId_Age_Purchase                  0\n",
       "PId_Gender_Purchase               0\n",
       "PId_City_Purchase                 0\n",
       "PId_Marital_Purchase              0\n",
       "PId_Occupation_Purchase           0\n",
       "PId_Stay_Purchase                 0\n",
       "PId_ProdCat1_Purchase             0\n",
       "dtype: int64"
      ]
     },
     "execution_count": 86,
     "metadata": {},
     "output_type": "execute_result"
    }
   ],
   "source": [
    "x_test.isna().sum()"
   ]
  },
  {
   "cell_type": "markdown",
   "metadata": {},
   "source": [
    "## Modelling on Train Data"
   ]
  },
  {
   "cell_type": "code",
   "execution_count": 87,
   "metadata": {},
   "outputs": [],
   "source": [
    "from sklearn import preprocessing\n",
    "from sklearn import neighbors\n",
    "from math import sqrt\n",
    "\n",
    "from sklearn.model_selection import train_test_split\n",
    "from sklearn.neighbors import KNeighborsRegressor\n",
    "from sklearn.ensemble  import RandomForestRegressor\n",
    "\n",
    "from sklearn.metrics import accuracy_score\n",
    "from sklearn.metrics import mean_squared_error,r2_score\n",
    "from sklearn.metrics import classification_report, confusion_matrix,accuracy_score,log_loss"
   ]
  },
  {
   "cell_type": "markdown",
   "metadata": {},
   "source": [
    "#### Decision Tree Regressor"
   ]
  },
  {
   "cell_type": "code",
   "execution_count": 88,
   "metadata": {},
   "outputs": [],
   "source": [
    "from sklearn.tree import DecisionTreeRegressor  \n",
    "regressor = DecisionTreeRegressor(random_state = 10,max_depth=800, min_samples_leaf=1500)  \n",
    "regressor.fit(x_train, y_train)\n",
    "y_pred = regressor.predict(x_test) "
   ]
  },
  {
   "cell_type": "code",
   "execution_count": 89,
   "metadata": {},
   "outputs": [
    {
     "data": {
      "text/plain": [
       "3073.9453436677504"
      ]
     },
     "execution_count": 89,
     "metadata": {},
     "output_type": "execute_result"
    }
   ],
   "source": [
    "# Root mean squared error\n",
    "rmse1 = sqrt(mean_squared_error(y_test,y_pred))\n",
    "rmse1"
   ]
  },
  {
   "cell_type": "code",
   "execution_count": 90,
   "metadata": {},
   "outputs": [
    {
     "name": "stdout",
     "output_type": "stream",
     "text": [
      "62.484639634610176\n"
     ]
    }
   ],
   "source": [
    "print(r2_score(y_test,y_pred)*100)"
   ]
  },
  {
   "cell_type": "markdown",
   "metadata": {},
   "source": [
    "#### Random Forest Regressor"
   ]
  },
  {
   "cell_type": "code",
   "execution_count": 91,
   "metadata": {},
   "outputs": [],
   "source": [
    "model=RandomForestRegressor(n_estimators=200,random_state=0,max_depth=5)\n",
    "model.fit(x_train,y_train)\n",
    "y_pred_rfr = model.predict(x_test)"
   ]
  },
  {
   "cell_type": "code",
   "execution_count": 92,
   "metadata": {},
   "outputs": [
    {
     "data": {
      "text/plain": [
       "3050.9490944853637"
      ]
     },
     "execution_count": 92,
     "metadata": {},
     "output_type": "execute_result"
    }
   ],
   "source": [
    "# Root mean squared error\n",
    "rmse=sqrt(mean_squared_error(y_test,y_pred_rfr))\n",
    "rmse"
   ]
  },
  {
   "cell_type": "code",
   "execution_count": 93,
   "metadata": {},
   "outputs": [
    {
     "name": "stdout",
     "output_type": "stream",
     "text": [
      "63.04384644778436\n"
     ]
    }
   ],
   "source": [
    "print(r2_score(y_test,y_pred_rfr)*100)"
   ]
  },
  {
   "cell_type": "markdown",
   "metadata": {},
   "source": [
    "#### KNN Regressor"
   ]
  },
  {
   "cell_type": "code",
   "execution_count": 94,
   "metadata": {},
   "outputs": [],
   "source": [
    "from sklearn import neighbors\n",
    "from sklearn.metrics import mean_squared_error \n",
    "from math import sqrt\n",
    "import matplotlib.pyplot as plt\n",
    "%matplotlib inline"
   ]
  },
  {
   "cell_type": "code",
   "execution_count": 95,
   "metadata": {},
   "outputs": [
    {
     "name": "stdout",
     "output_type": "stream",
     "text": [
      "RMSE value for k=  50 is: 2877.1702637086037\n"
     ]
    }
   ],
   "source": [
    "from sklearn.neighbors import KNeighborsClassifier\n",
    "\n",
    "rmse_val = [] \n",
    "K = 50\n",
    "model = neighbors.KNeighborsRegressor(n_neighbors = K)\n",
    "\n",
    "model.fit(x_train, y_train)  \n",
    "y_pred_knn = model.predict(x_test) \n",
    "error = sqrt(mean_squared_error(y_test,y_pred_knn)) \n",
    "rmse_val.append(error) #store rmse values\n",
    "print('RMSE value for k= ' , K , 'is:', error)\n"
   ]
  },
  {
   "cell_type": "code",
   "execution_count": 96,
   "metadata": {},
   "outputs": [
    {
     "name": "stdout",
     "output_type": "stream",
     "text": [
      "67.13391559368259\n"
     ]
    }
   ],
   "source": [
    "print(r2_score(y_test,y_pred_knn)*100)"
   ]
  },
  {
   "cell_type": "markdown",
   "metadata": {},
   "source": [
    "#### Gradient Boosting"
   ]
  },
  {
   "cell_type": "code",
   "execution_count": 97,
   "metadata": {},
   "outputs": [],
   "source": [
    "from sklearn.ensemble import GradientBoostingRegressor"
   ]
  },
  {
   "cell_type": "code",
   "execution_count": 98,
   "metadata": {},
   "outputs": [],
   "source": [
    "model = GradientBoostingRegressor(n_estimators=100,max_depth=5)\n",
    "model.fit(x_train,y_train)\n",
    "y_pred_gbr = model.predict(x_test)"
   ]
  },
  {
   "cell_type": "code",
   "execution_count": 99,
   "metadata": {},
   "outputs": [
    {
     "name": "stdout",
     "output_type": "stream",
     "text": [
      "64.79696664087255\n"
     ]
    }
   ],
   "source": [
    "print(r2_score(y_test,y_pred_gbr)*100)"
   ]
  },
  {
   "cell_type": "markdown",
   "metadata": {},
   "source": [
    "## Modelling on Test Data"
   ]
  },
  {
   "cell_type": "code",
   "execution_count": null,
   "metadata": {},
   "outputs": [],
   "source": [
    "percent_missing = test_data.isnull().sum() * 100 / len(test_data)\n",
    "percent_missing"
   ]
  },
  {
   "cell_type": "code",
   "execution_count": null,
   "metadata": {},
   "outputs": [],
   "source": [
    "test_data.fillna(-1,inplace=True)"
   ]
  },
  {
   "cell_type": "code",
   "execution_count": null,
   "metadata": {},
   "outputs": [],
   "source": [
    "percent_missing = test_data.isnull().sum() * 100 / len(test_data)\n",
    "percent_missing"
   ]
  },
  {
   "cell_type": "code",
   "execution_count": null,
   "metadata": {},
   "outputs": [],
   "source": [
    "y_test_pred_DTR = regressor.predict(test_data[features])\n",
    "y_test_pred_RFR = model.predict(test_data[features])"
   ]
  },
  {
   "cell_type": "markdown",
   "metadata": {},
   "source": [
    "## Creating CSV of Output"
   ]
  },
  {
   "cell_type": "code",
   "execution_count": null,
   "metadata": {},
   "outputs": [],
   "source": [
    "submission['Purchase'] = y_test_pred_DTR"
   ]
  },
  {
   "cell_type": "code",
   "execution_count": null,
   "metadata": {},
   "outputs": [],
   "source": [
    "submission['Purchase'] = submission['Purchase'].astype(int)"
   ]
  },
  {
   "cell_type": "code",
   "execution_count": null,
   "metadata": {},
   "outputs": [],
   "source": [
    "submission.to_csv(\"D:\\Downloads\\Data Science\\Analytics_Vidya\\Output\\Black Friday Sales\\BlackFridaySalesPrediction3.csv\")"
   ]
  },
  {
   "cell_type": "markdown",
   "metadata": {},
   "source": [
    "### K Fold"
   ]
  },
  {
   "cell_type": "code",
   "execution_count": null,
   "metadata": {},
   "outputs": [],
   "source": [
    "from sklearn.model_selection import KFold \n",
    "kf = RepeatedKFold(n_splits=5, n_repeats=10, random_state=None) \n",
    "\n",
    "for train_index, test_index in kf.split(X):\n",
    "    print(\"Train:\", train_index, \"Validation:\",test_index)\n",
    "    X_train, X_test = X[train_index], X[test_index] \n",
    "    Y_train, Y_test = Y[train_index], Y[test_index]"
   ]
  }
 ],
 "metadata": {
  "kernelspec": {
   "display_name": "Python 3",
   "language": "python",
   "name": "python3"
  },
  "language_info": {
   "codemirror_mode": {
    "name": "ipython",
    "version": 3
   },
   "file_extension": ".py",
   "mimetype": "text/x-python",
   "name": "python",
   "nbconvert_exporter": "python",
   "pygments_lexer": "ipython3",
   "version": "3.7.3"
  }
 },
 "nbformat": 4,
 "nbformat_minor": 2
}
